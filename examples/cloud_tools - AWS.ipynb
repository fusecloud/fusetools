{
 "cells": [
  {
   "cell_type": "markdown",
   "metadata": {},
   "source": [
    "# Cloud Tools - AWS"
   ]
  },
  {
   "cell_type": "code",
   "execution_count": 1,
   "metadata": {},
   "outputs": [],
   "source": [
    "import os\n",
    "import pandas as pd\n",
    "from pymagic.cloud_tools import AWS"
   ]
  },
  {
   "cell_type": "markdown",
   "metadata": {},
   "source": [
    "# S3"
   ]
  },
  {
   "cell_type": "markdown",
   "metadata": {},
   "source": [
    "## Admin"
   ]
  },
  {
   "cell_type": "markdown",
   "metadata": {},
   "source": [
    "### Create a Bucket"
   ]
  },
  {
   "cell_type": "markdown",
   "metadata": {},
   "source": [
    "### List Files on S3"
   ]
  },
  {
   "cell_type": "markdown",
   "metadata": {},
   "source": [
    "Let's take a look at what files we have on our S3 bucket."
   ]
  },
  {
   "cell_type": "code",
   "execution_count": 2,
   "metadata": {},
   "outputs": [
    {
     "name": "stdout",
     "output_type": "stream",
     "text": [
      "Screen Shot 2020-06-17 at 6.19.55 PM.png\n",
      "rs_test_data.csv000\n",
      "test.png\n",
      "test_df.csv\n"
     ]
    }
   ],
   "source": [
    "df = AWS.s3_list_files(\n",
    "    bucket=os.environ['example_aws_bucket'],\n",
    "    pub=os.environ['aws_secret_access_id_cc'], \n",
    "    sec=os.environ['aws_secret_access_key_cc']\n",
    ")"
   ]
  },
  {
   "cell_type": "code",
   "execution_count": 3,
   "metadata": {},
   "outputs": [
    {
     "data": {
      "text/html": [
       "<div>\n",
       "<style scoped>\n",
       "    .dataframe tbody tr th:only-of-type {\n",
       "        vertical-align: middle;\n",
       "    }\n",
       "\n",
       "    .dataframe tbody tr th {\n",
       "        vertical-align: top;\n",
       "    }\n",
       "\n",
       "    .dataframe thead th {\n",
       "        text-align: right;\n",
       "    }\n",
       "</style>\n",
       "<table border=\"1\" class=\"dataframe\">\n",
       "  <thead>\n",
       "    <tr style=\"text-align: right;\">\n",
       "      <th></th>\n",
       "      <th>files</th>\n",
       "      <th>times</th>\n",
       "      <th>metadata</th>\n",
       "    </tr>\n",
       "  </thead>\n",
       "  <tbody>\n",
       "    <tr>\n",
       "      <th>0</th>\n",
       "      <td>Screen Shot 2020-06-17 at 6.19.55 PM.png</td>\n",
       "      <td>2020-07-01 03:16:27+00:00</td>\n",
       "      <td>{}</td>\n",
       "    </tr>\n",
       "    <tr>\n",
       "      <th>1</th>\n",
       "      <td>rs_test_data.csv000</td>\n",
       "      <td>2020-09-26 23:47:20+00:00</td>\n",
       "      <td>{}</td>\n",
       "    </tr>\n",
       "    <tr>\n",
       "      <th>2</th>\n",
       "      <td>test.png</td>\n",
       "      <td>2020-09-26 23:47:14+00:00</td>\n",
       "      <td>{'metadata_key1': 'metadata_key1', 'metadata_k...</td>\n",
       "    </tr>\n",
       "    <tr>\n",
       "      <th>3</th>\n",
       "      <td>test_df.csv</td>\n",
       "      <td>2020-09-26 23:47:14+00:00</td>\n",
       "      <td>{}</td>\n",
       "    </tr>\n",
       "  </tbody>\n",
       "</table>\n",
       "</div>"
      ],
      "text/plain": [
       "                                      files                      times  \\\n",
       "0  Screen Shot 2020-06-17 at 6.19.55 PM.png  2020-07-01 03:16:27+00:00   \n",
       "1                       rs_test_data.csv000  2020-09-26 23:47:20+00:00   \n",
       "2                                  test.png  2020-09-26 23:47:14+00:00   \n",
       "3                               test_df.csv  2020-09-26 23:47:14+00:00   \n",
       "\n",
       "                                            metadata  \n",
       "0                                                 {}  \n",
       "1                                                 {}  \n",
       "2  {'metadata_key1': 'metadata_key1', 'metadata_k...  \n",
       "3                                                 {}  "
      ]
     },
     "execution_count": 3,
     "metadata": {},
     "output_type": "execute_result"
    }
   ],
   "source": [
    "df.head()"
   ]
  },
  {
   "cell_type": "markdown",
   "metadata": {},
   "source": [
    "### Delete S3 Object"
   ]
  },
  {
   "cell_type": "markdown",
   "metadata": {},
   "source": [
    "Let's delete an object in our S3 bucket."
   ]
  },
  {
   "cell_type": "code",
   "execution_count": 4,
   "metadata": {
    "scrolled": true
   },
   "outputs": [
    {
     "data": {
      "text/plain": [
       "{'ResponseMetadata': {'RequestId': '0DFAF82595798FA9',\n",
       "  'HostId': 'GuC54haguka5x1bVdY2oDFG6vFn3lwFi57pbA0KTdBjF76cI2lYLxNgE1OqhBLPHYSwehUPYyIk=',\n",
       "  'HTTPStatusCode': 200,\n",
       "  'HTTPHeaders': {'x-amz-id-2': 'GuC54haguka5x1bVdY2oDFG6vFn3lwFi57pbA0KTdBjF76cI2lYLxNgE1OqhBLPHYSwehUPYyIk=',\n",
       "   'x-amz-request-id': '0DFAF82595798FA9',\n",
       "   'date': 'Sat, 26 Sep 2020 23:48:57 GMT',\n",
       "   'connection': 'close',\n",
       "   'content-type': 'application/xml',\n",
       "   'transfer-encoding': 'chunked',\n",
       "   'server': 'AmazonS3'},\n",
       "  'RetryAttempts': 1},\n",
       " 'Deleted': [{'Key': 'test_df.csv'}]}"
      ]
     },
     "execution_count": 4,
     "metadata": {},
     "output_type": "execute_result"
    }
   ],
   "source": [
    "AWS.delete_s3_object(\n",
    "    pub=os.environ['aws_secret_access_id_cc'], \n",
    "    sec=os.environ['aws_secret_access_key_cc'],\n",
    "    bucket=os.environ['example_aws_bucket'], \n",
    "    obj_list=[{'Key':'test_df.csv'}] #pass a list of dictionaries\n",
    ")"
   ]
  },
  {
   "cell_type": "markdown",
   "metadata": {},
   "source": [
    "## Loading Data"
   ]
  },
  {
   "cell_type": "markdown",
   "metadata": {},
   "source": [
    "Let's look at some examples of loading data to S3."
   ]
  },
  {
   "cell_type": "markdown",
   "metadata": {},
   "source": [
    "### DataFrames"
   ]
  },
  {
   "cell_type": "markdown",
   "metadata": {},
   "source": [
    "Let's push a Pandas DataFrame to S3 as a csv file"
   ]
  },
  {
   "cell_type": "code",
   "execution_count": 5,
   "metadata": {},
   "outputs": [],
   "source": [
    "df = pd.DataFrame({\n",
    "    \"widgets\":[12,31,43,32,33,12,3],\n",
    "    \"sales\":[249,199,89,59,129,99,159]\n",
    "})"
   ]
  },
  {
   "cell_type": "code",
   "execution_count": 6,
   "metadata": {},
   "outputs": [
    {
     "data": {
      "text/html": [
       "<div>\n",
       "<style scoped>\n",
       "    .dataframe tbody tr th:only-of-type {\n",
       "        vertical-align: middle;\n",
       "    }\n",
       "\n",
       "    .dataframe tbody tr th {\n",
       "        vertical-align: top;\n",
       "    }\n",
       "\n",
       "    .dataframe thead th {\n",
       "        text-align: right;\n",
       "    }\n",
       "</style>\n",
       "<table border=\"1\" class=\"dataframe\">\n",
       "  <thead>\n",
       "    <tr style=\"text-align: right;\">\n",
       "      <th></th>\n",
       "      <th>widgets</th>\n",
       "      <th>sales</th>\n",
       "    </tr>\n",
       "  </thead>\n",
       "  <tbody>\n",
       "    <tr>\n",
       "      <th>0</th>\n",
       "      <td>12</td>\n",
       "      <td>249</td>\n",
       "    </tr>\n",
       "    <tr>\n",
       "      <th>1</th>\n",
       "      <td>31</td>\n",
       "      <td>199</td>\n",
       "    </tr>\n",
       "    <tr>\n",
       "      <th>2</th>\n",
       "      <td>43</td>\n",
       "      <td>89</td>\n",
       "    </tr>\n",
       "    <tr>\n",
       "      <th>3</th>\n",
       "      <td>32</td>\n",
       "      <td>59</td>\n",
       "    </tr>\n",
       "    <tr>\n",
       "      <th>4</th>\n",
       "      <td>33</td>\n",
       "      <td>129</td>\n",
       "    </tr>\n",
       "    <tr>\n",
       "      <th>5</th>\n",
       "      <td>12</td>\n",
       "      <td>99</td>\n",
       "    </tr>\n",
       "    <tr>\n",
       "      <th>6</th>\n",
       "      <td>3</td>\n",
       "      <td>159</td>\n",
       "    </tr>\n",
       "  </tbody>\n",
       "</table>\n",
       "</div>"
      ],
      "text/plain": [
       "   widgets  sales\n",
       "0       12    249\n",
       "1       31    199\n",
       "2       43     89\n",
       "3       32     59\n",
       "4       33    129\n",
       "5       12     99\n",
       "6        3    159"
      ]
     },
     "execution_count": 6,
     "metadata": {},
     "output_type": "execute_result"
    }
   ],
   "source": [
    "df"
   ]
  },
  {
   "cell_type": "code",
   "execution_count": 7,
   "metadata": {},
   "outputs": [
    {
     "data": {
      "text/plain": [
       "{'ResponseMetadata': {'RequestId': '80506F835F6841CF',\n",
       "  'HostId': '7PjcIs7TLcF80tGmX2nBembdaXCCq7HZfGAp2KBQie1iUkluAVEipaiQ2IzQPt5R/Bi60FfGoMw=',\n",
       "  'HTTPStatusCode': 200,\n",
       "  'HTTPHeaders': {'x-amz-id-2': '7PjcIs7TLcF80tGmX2nBembdaXCCq7HZfGAp2KBQie1iUkluAVEipaiQ2IzQPt5R/Bi60FfGoMw=',\n",
       "   'x-amz-request-id': '80506F835F6841CF',\n",
       "   'date': 'Sat, 26 Sep 2020 23:48:58 GMT',\n",
       "   'etag': '\"554a58475fccccc287150fb98445cf78\"',\n",
       "   'content-length': '0',\n",
       "   'server': 'AmazonS3'},\n",
       "  'RetryAttempts': 1},\n",
       " 'ETag': '\"554a58475fccccc287150fb98445cf78\"'}"
      ]
     },
     "execution_count": 7,
     "metadata": {},
     "output_type": "execute_result"
    }
   ],
   "source": [
    "AWS.df_to_s3(\n",
    "    df=df, \n",
    "    object_name=\"test_df.csv\", \n",
    "    bucket=os.environ['example_aws_bucket'], \n",
    "    pub=os.environ['aws_secret_access_id_cc'], \n",
    "    sec=os.environ['aws_secret_access_key_cc'],\n",
    "    sep=\",\", \n",
    "    header=True\n",
    ")"
   ]
  },
  {
   "cell_type": "markdown",
   "metadata": {},
   "source": [
    "### Local Files"
   ]
  },
  {
   "cell_type": "markdown",
   "metadata": {},
   "source": [
    "What about a local csv file?"
   ]
  },
  {
   "cell_type": "code",
   "execution_count": 8,
   "metadata": {},
   "outputs": [
    {
     "name": "stdout",
     "output_type": "stream",
     "text": [
      "loaded data to test.png from: /Users/Collier/Downloads/test.png\n"
     ]
    }
   ],
   "source": [
    "sav_dir = '/Users/Collier/Downloads/'\n",
    "file_name = \"test.png\"\n",
    "\n",
    "AWS.file_to_s3(\n",
    "    folder_file=sav_dir+file_name, \n",
    "    object_name=file_name, \n",
    "    bucket=os.environ['example_aws_bucket'], \n",
    "    pub=os.environ['aws_secret_access_id_cc'], \n",
    "    sec=os.environ['aws_secret_access_key_cc'],\n",
    "    metadata_d={ #optional metadata dictionary\n",
    "        \"metadata_key1\":\"metadata_key1\",\n",
    "        \"metadata_key2\":\"metadata_key2\"\n",
    "    }, \n",
    "    public_file=False #True=Public, False=Private\n",
    ")"
   ]
  },
  {
   "cell_type": "markdown",
   "metadata": {},
   "source": [
    "### Redshift"
   ]
  },
  {
   "cell_type": "markdown",
   "metadata": {},
   "source": [
    "The AWS ecosystem allows some pretty flexible interoperability between AWS services. \n",
    "\n",
    "Let's dump the contents of a Redshift query into S3 as a csv file.\n",
    "\n",
    "This uses the Redshift 'UNLOAD' command under the hood."
   ]
  },
  {
   "cell_type": "code",
   "execution_count": 9,
   "metadata": {},
   "outputs": [
    {
     "name": "stdout",
     "output_type": "stream",
     "text": [
      "loaded data to s3://cctickerupdall/rs_test_data.csv from query: select * from flights\n"
     ]
    }
   ],
   "source": [
    "#import the Redshift connection class\n",
    "from pymagic.db_conn_tools import Redshift\n",
    "\n",
    "#psycopg2\n",
    "cursor_rs, conn_rs = Redshift.conn_rs_pg(\n",
    "    host=os.environ['example_rs_host'],\n",
    "    db=os.environ['example_rs_db'],\n",
    "    user=os.environ['example_rs_user'],\n",
    "    pwd=os.environ['example_rs_pwd'],\n",
    "    port=os.environ['example_rs_port']\n",
    ")\n",
    "\n",
    "#you can use any select query\n",
    "sql = \"select * from flights\"\n",
    "\n",
    "#unload\n",
    "AWS.rs_to_s3(\n",
    "    cursor=cursor_rs, \n",
    "    sql=sql, \n",
    "    #make sure to include the 's3://' prefix\n",
    "    bucket_path=\"s3://\"+os.environ['example_aws_bucket']+\"/rs_test_data.csv\", \n",
    "    delimiter=\",\", \n",
    "    pub=os.environ['aws_secret_access_id_cc'], \n",
    "    sec=os.environ['aws_secret_access_key_cc']\n",
    ")"
   ]
  },
  {
   "cell_type": "markdown",
   "metadata": {},
   "source": [
    "## Retrieving Data"
   ]
  },
  {
   "cell_type": "markdown",
   "metadata": {},
   "source": [
    "What about getting data out of S3?"
   ]
  },
  {
   "cell_type": "markdown",
   "metadata": {},
   "source": [
    "### DataFrames"
   ]
  },
  {
   "cell_type": "markdown",
   "metadata": {},
   "source": [
    "Let's download the csv we loaded earlier back to a Pandas DataFrame."
   ]
  },
  {
   "cell_type": "code",
   "execution_count": 10,
   "metadata": {},
   "outputs": [],
   "source": [
    "df = AWS.s3_to_df(\n",
    "    object_name=\"test_df.csv\", \n",
    "    bucket=os.environ['example_aws_bucket'],\n",
    "    pub=os.environ['aws_secret_access_id_cc'], \n",
    "    sec=os.environ['aws_secret_access_key_cc'],\n",
    "    sep=\",\", \n",
    "    header=0\n",
    ")"
   ]
  },
  {
   "cell_type": "code",
   "execution_count": 11,
   "metadata": {
    "scrolled": false
   },
   "outputs": [
    {
     "data": {
      "text/html": [
       "<div>\n",
       "<style scoped>\n",
       "    .dataframe tbody tr th:only-of-type {\n",
       "        vertical-align: middle;\n",
       "    }\n",
       "\n",
       "    .dataframe tbody tr th {\n",
       "        vertical-align: top;\n",
       "    }\n",
       "\n",
       "    .dataframe thead th {\n",
       "        text-align: right;\n",
       "    }\n",
       "</style>\n",
       "<table border=\"1\" class=\"dataframe\">\n",
       "  <thead>\n",
       "    <tr style=\"text-align: right;\">\n",
       "      <th></th>\n",
       "      <th>widgets</th>\n",
       "      <th>sales</th>\n",
       "    </tr>\n",
       "  </thead>\n",
       "  <tbody>\n",
       "    <tr>\n",
       "      <th>0</th>\n",
       "      <td>12</td>\n",
       "      <td>249</td>\n",
       "    </tr>\n",
       "    <tr>\n",
       "      <th>1</th>\n",
       "      <td>31</td>\n",
       "      <td>199</td>\n",
       "    </tr>\n",
       "    <tr>\n",
       "      <th>2</th>\n",
       "      <td>43</td>\n",
       "      <td>89</td>\n",
       "    </tr>\n",
       "    <tr>\n",
       "      <th>3</th>\n",
       "      <td>32</td>\n",
       "      <td>59</td>\n",
       "    </tr>\n",
       "    <tr>\n",
       "      <th>4</th>\n",
       "      <td>33</td>\n",
       "      <td>129</td>\n",
       "    </tr>\n",
       "    <tr>\n",
       "      <th>5</th>\n",
       "      <td>12</td>\n",
       "      <td>99</td>\n",
       "    </tr>\n",
       "    <tr>\n",
       "      <th>6</th>\n",
       "      <td>3</td>\n",
       "      <td>159</td>\n",
       "    </tr>\n",
       "  </tbody>\n",
       "</table>\n",
       "</div>"
      ],
      "text/plain": [
       "   widgets  sales\n",
       "0       12    249\n",
       "1       31    199\n",
       "2       43     89\n",
       "3       32     59\n",
       "4       33    129\n",
       "5       12     99\n",
       "6        3    159"
      ]
     },
     "execution_count": 11,
     "metadata": {},
     "output_type": "execute_result"
    }
   ],
   "source": [
    "df"
   ]
  },
  {
   "cell_type": "markdown",
   "metadata": {},
   "source": [
    "### Local Files"
   ]
  },
  {
   "cell_type": "markdown",
   "metadata": {},
   "source": [
    "Of course we can download files from S3 to a local folder."
   ]
  },
  {
   "cell_type": "code",
   "execution_count": 12,
   "metadata": {},
   "outputs": [
    {
     "name": "stdout",
     "output_type": "stream",
     "text": [
      "loaded data to /Users/Collier/Downloads/test.png from: test.png\n"
     ]
    }
   ],
   "source": [
    "sav_dir = '/Users/Collier/Downloads/'\n",
    "file_name = \"test.png\"\n",
    "\n",
    "AWS.s3_to_file(\n",
    "    object_name=file_name, \n",
    "    folder_file=sav_dir+file_name, \n",
    "    bucket=os.environ['example_aws_bucket'],\n",
    "    pub=os.environ['aws_secret_access_id_cc'], \n",
    "    sec=os.environ['aws_secret_access_key_cc'],\n",
    ")"
   ]
  },
  {
   "cell_type": "markdown",
   "metadata": {},
   "source": [
    "### Redshift"
   ]
  },
  {
   "cell_type": "markdown",
   "metadata": {},
   "source": [
    "Now let's load some data from S3 and to Redshift.  \n",
    "\n",
    "This is the reverse of what we did earlier and uses the Redshift 'COPY' command under the hood.\n",
    "\n",
    "For more Redshift ETL examples, see this notebook: []()"
   ]
  },
  {
   "cell_type": "code",
   "execution_count": 13,
   "metadata": {},
   "outputs": [
    {
     "name": "stdout",
     "output_type": "stream",
     "text": [
      "\u001b[31mRuntime: 0.0017358666666666665\n",
      "\u001b[31mRuntime: 0.0024833999999999998\n"
     ]
    }
   ],
   "source": [
    "#one note is that you must create the target table ahead of time before you can load data into it.\n",
    "\n",
    "#import the Redshift ETL class\n",
    "from pymagic.db_etl_tools import Redshift\n",
    "\n",
    "tbl_name = \"rs_test_data_from_s3\"\n",
    "\n",
    "#let's grab our dataframe again so we can create the table \n",
    "df = AWS.s3_to_df(\n",
    "    object_name=\"test_df.csv\", \n",
    "    bucket=os.environ['example_aws_bucket'],\n",
    "    pub=os.environ['aws_secret_access_id_cc'], \n",
    "    sec=os.environ['aws_secret_access_key_cc'],\n",
    "    sep=\",\", \n",
    "    header=0\n",
    ")\n",
    "\n",
    "#if we already created the table, lets drop it so we can re-create\n",
    "try:\n",
    "    Redshift.run_query_rs(sql=f\"drop table {tbl_name}\",conn=conn_rs)\n",
    "except:\n",
    "    conn_rs.commit()\n",
    "    pass\n",
    "\n",
    "sql = Redshift.make_df_tbl_rs(\n",
    "    tbl_name=tbl_name,\n",
    "    df=df\n",
    ")\n",
    "\n",
    "Redshift.run_query_rs(sql=sql,conn=conn_rs)"
   ]
  },
  {
   "cell_type": "code",
   "execution_count": 14,
   "metadata": {},
   "outputs": [
    {
     "data": {
      "text/plain": [
       "'CREATE TABLE rs_test_data_from_s3 ( widgets INTEGER, sales INTEGER )'"
      ]
     },
     "execution_count": 14,
     "metadata": {},
     "output_type": "execute_result"
    }
   ],
   "source": [
    "#this is the SQL that we ran to create the table\n",
    "sql"
   ]
  },
  {
   "cell_type": "code",
   "execution_count": 15,
   "metadata": {},
   "outputs": [
    {
     "name": "stdout",
     "output_type": "stream",
     "text": [
      "loaded data from s3://cctickerupdall/test_df.csv to rs_test_data_from_s3\n"
     ]
    }
   ],
   "source": [
    "#load the Redshift table from the csv on S3\n",
    "\n",
    "AWS.s3_to_rs(\n",
    "    cursor=cursor_rs, #note we passed the Redshift cursor object\n",
    "    tbl_name=tbl_name, \n",
    "    bucket_path=\"s3://\"+os.environ['example_aws_bucket']+\"/test_df.csv\",\n",
    "    pub=os.environ['aws_secret_access_id_cc'], \n",
    "    sec=os.environ['aws_secret_access_key_cc'],\n",
    "    delimiter=\",\"\n",
    ")"
   ]
  },
  {
   "cell_type": "markdown",
   "metadata": {},
   "source": [
    "# DynamoDB"
   ]
  },
  {
   "cell_type": "markdown",
   "metadata": {},
   "source": [
    "DynamoDB is AWS' flagship NoSQL database. Let's go over some examples with DynamoDB."
   ]
  },
  {
   "cell_type": "markdown",
   "metadata": {},
   "source": [
    "## Creating/Dropping Tables"
   ]
  },
  {
   "cell_type": "markdown",
   "metadata": {},
   "source": [
    "First let's create a DynamoDB table by outlining some of the table details.\n",
    "\n",
    "Below we define our key_schema, attribute definitions,and provisioned throughput parameters.\n",
    "These are all required when creating a DynamoDB table."
   ]
  },
  {
   "cell_type": "code",
   "execution_count": 16,
   "metadata": {},
   "outputs": [],
   "source": [
    "tbl_name = \"dynamo_test\"\n",
    "region = \"us-east-2\"\n",
    "\n",
    "key_schema = \\\n",
    "[\n",
    "    {\n",
    "        'AttributeName': 'year',\n",
    "        'KeyType': 'HASH'  # Partition key\n",
    "    },\n",
    "    {\n",
    "        'AttributeName': 'title',\n",
    "        'KeyType': 'RANGE'  # Sort key\n",
    "    }\n",
    "]\n",
    "\n",
    "attribute_definitions = \\\n",
    "[\n",
    "    {\n",
    "        'AttributeName': 'year',\n",
    "        'AttributeType': 'N'\n",
    "    },\n",
    "    {\n",
    "        'AttributeName': 'title',\n",
    "        'AttributeType': 'S'\n",
    "    },\n",
    "]\n",
    "\n",
    "provisioned_throughput = \\\n",
    "{\n",
    "    'ReadCapacityUnits': 10,\n",
    "    'WriteCapacityUnits': 10\n",
    "}"
   ]
  },
  {
   "cell_type": "code",
   "execution_count": 17,
   "metadata": {},
   "outputs": [
    {
     "name": "stdout",
     "output_type": "stream",
     "text": [
      "An error occurred (ResourceNotFoundException) when calling the DeleteTable operation: Requested resource not found: Table: dynamo_test not found\n"
     ]
    }
   ],
   "source": [
    "#todo: delete the table before re-creating it...\n",
    "\n",
    "try:\n",
    "    AWS.delete_dynamo_tbl(\n",
    "        pub=os.environ['aws_secret_access_id_cc'], \n",
    "        sec=os.environ['aws_secret_access_key_cc'],\n",
    "        region_name=region, \n",
    "        tbl_name=tbl_name\n",
    "    )\n",
    "except Exception as e:\n",
    "    print(str(e))\n",
    "    pass"
   ]
  },
  {
   "cell_type": "code",
   "execution_count": 18,
   "metadata": {},
   "outputs": [
    {
     "data": {
      "text/plain": [
       "dynamodb.Table(name='dynamo_test')"
      ]
     },
     "execution_count": 18,
     "metadata": {},
     "output_type": "execute_result"
    }
   ],
   "source": [
    "AWS.make_dynamo_tbl(\n",
    "    pub=os.environ['aws_secret_access_id_cc'], \n",
    "    sec=os.environ['aws_secret_access_key_cc'],\n",
    "    region_name=region, \n",
    "    tbl_name=tbl_name,\n",
    "    key_schema=key_schema, \n",
    "    attribute_definitions=attribute_definitions,\n",
    "    provisioned_throughput=provisioned_throughput\n",
    ")"
   ]
  },
  {
   "cell_type": "markdown",
   "metadata": {},
   "source": [
    "## Loading Data"
   ]
  },
  {
   "cell_type": "markdown",
   "metadata": {},
   "source": [
    "### Dictionaries"
   ]
  },
  {
   "cell_type": "markdown",
   "metadata": {},
   "source": [
    "A DynamoDB table holds records called 'items' which are essentially Python dictionaries or JavaScript object.  The fields in an item are called 'attributes'.\n",
    "\n",
    "If we want to insert a dictionary into a DynamoDB table we can do so like shown below, where we have a dictionary with nested fields and elements."
   ]
  },
  {
   "cell_type": "code",
   "execution_count": 20,
   "metadata": {},
   "outputs": [
    {
     "data": {
      "text/plain": [
       "{'ResponseMetadata': {'RequestId': 'CH2FQ58L6AL86L6H25IDA4OE6RVV4KQNSO5AEMVJF66Q9ASUAAJG',\n",
       "  'HTTPStatusCode': 200,\n",
       "  'HTTPHeaders': {'server': 'Server',\n",
       "   'date': 'Sat, 26 Sep 2020 23:49:31 GMT',\n",
       "   'content-type': 'application/x-amz-json-1.0',\n",
       "   'content-length': '2',\n",
       "   'connection': 'keep-alive',\n",
       "   'x-amzn-requestid': 'CH2FQ58L6AL86L6H25IDA4OE6RVV4KQNSO5AEMVJF66Q9ASUAAJG',\n",
       "   'x-amz-crc32': '2745614147'},\n",
       "  'RetryAttempts': 0}}"
      ]
     },
     "execution_count": 20,
     "metadata": {},
     "output_type": "execute_result"
    }
   ],
   "source": [
    "AWS.load_dynamo(\n",
    "    pub=os.environ['aws_secret_access_id_cc'], \n",
    "    sec=os.environ['aws_secret_access_key_cc'],\n",
    "    region_name=region, \n",
    "    tbl_name=tbl_name, \n",
    "    #dictionary must have the table's partition key as the root element\n",
    "    d={'year': {\"N\":\"1997\"},\n",
    "       \"title\": {\"S\":\"Titantic\"}\n",
    "      }\n",
    ")"
   ]
  },
  {
   "cell_type": "markdown",
   "metadata": {},
   "source": [
    "DynamoDB supports quite a few different data types for attributes in tables.\n",
    "\n",
    "You can find a list of them here: []().\n",
    "\n",
    "Let's take a look at a few here by loading them to our table."
   ]
  },
  {
   "cell_type": "code",
   "execution_count": 21,
   "metadata": {},
   "outputs": [
    {
     "data": {
      "text/plain": [
       "{'ResponseMetadata': {'RequestId': '3ETRQAO02LKCN16VDL7NB40O27VV4KQNSO5AEMVJF66Q9ASUAAJG',\n",
       "  'HTTPStatusCode': 200,\n",
       "  'HTTPHeaders': {'server': 'Server',\n",
       "   'date': 'Sat, 26 Sep 2020 23:49:38 GMT',\n",
       "   'content-type': 'application/x-amz-json-1.0',\n",
       "   'content-length': '2',\n",
       "   'connection': 'keep-alive',\n",
       "   'x-amzn-requestid': '3ETRQAO02LKCN16VDL7NB40O27VV4KQNSO5AEMVJF66Q9ASUAAJG',\n",
       "   'x-amz-crc32': '2745614147'},\n",
       "  'RetryAttempts': 0}}"
      ]
     },
     "execution_count": 21,
     "metadata": {},
     "output_type": "execute_result"
    }
   ],
   "source": [
    "AWS.load_dynamo(\n",
    "    pub=os.environ['aws_secret_access_id_cc'], \n",
    "    sec=os.environ['aws_secret_access_key_cc'],\n",
    "    region_name=region, \n",
    "    tbl_name=tbl_name, \n",
    "    d={'year': {\"N\":\"1997\"}, #if you use the same partition key, you will update the existing attribute\n",
    "       \"title\": {\"S\":\"Titantic\"},\n",
    "       'test_string': {'S': 'Australia'}, \n",
    "       'test_number': {'N': \"99.99\"},\n",
    "       'test_bool':{'BOOL':True},\n",
    "       'test_list':{'L':[{'N':\"1\"},{'S':'Hello'}]},\n",
    "       'test_numbered_set':{'NS':[\"0\",\"1\",\"2\",\"3\",\"4\"]},\n",
    "       'test_string_set':{'SS':[\"Hello\",\"World\",\"Foo\",\"Bar\"]}\n",
    "      }\n",
    ")"
   ]
  },
  {
   "cell_type": "markdown",
   "metadata": {},
   "source": [
    "### DataFrames"
   ]
  },
  {
   "cell_type": "markdown",
   "metadata": {},
   "source": [
    "What if we want to load a Pandas DataFrame? Well it's a similar process as the above, but we'll need to convert our dataframe into a list dictionaries to load because."
   ]
  },
  {
   "cell_type": "code",
   "execution_count": 22,
   "metadata": {},
   "outputs": [],
   "source": [
    "#create the dataframe\n",
    "d = pd.DataFrame({\n",
    "    \"year\":[1998,1999,2000,2001],\n",
    "    \"title\":[\"Armageddon\",\"The Matrix\",\"Remember the Titans\",\"Donnie Darko\"],\n",
    "    \"gross\":[554_000_000,\n",
    "            463_517_383,\n",
    "            115_600_000,\n",
    "             7_510_877],\n",
    "    \"starring\":[\n",
    "        ['Bruce Willis',\"Billy Bob Thornton\",\"Ben Affleck\",\"Liv Tyler\"],\n",
    "        ['Keanu Reeves','Laurence Fishburne','Carrie-Anne Moss','Hugo Weaving'],\n",
    "        ['Denzel Washington','Will Patton','Wood Harris','Ryan Hurst'],\n",
    "        ['Jake Gyllenhaal','Holmes Osborne','Maggie Gyllenhaal']\n",
    "    ]\n",
    "})\n",
    "\n",
    "#now we define the Dynamo data types for the attributes we are loading.\n",
    "# These need to be appended to the column names.\n",
    "column_definitions = {\n",
    "    \"year\":\"year (N)\",\n",
    "    \"title\": \"title (S)\",\n",
    "    \"gross\": \"gross (N)\",\n",
    "    \"starring\": \"starring (SS)\" #list of strings\n",
    "}\n",
    "\n",
    "d = d.rename(columns=column_definitions)"
   ]
  },
  {
   "cell_type": "code",
   "execution_count": 23,
   "metadata": {},
   "outputs": [
    {
     "data": {
      "text/html": [
       "<div>\n",
       "<style scoped>\n",
       "    .dataframe tbody tr th:only-of-type {\n",
       "        vertical-align: middle;\n",
       "    }\n",
       "\n",
       "    .dataframe tbody tr th {\n",
       "        vertical-align: top;\n",
       "    }\n",
       "\n",
       "    .dataframe thead th {\n",
       "        text-align: right;\n",
       "    }\n",
       "</style>\n",
       "<table border=\"1\" class=\"dataframe\">\n",
       "  <thead>\n",
       "    <tr style=\"text-align: right;\">\n",
       "      <th></th>\n",
       "      <th>year (N)</th>\n",
       "      <th>title (S)</th>\n",
       "      <th>gross (N)</th>\n",
       "      <th>starring (SS)</th>\n",
       "    </tr>\n",
       "  </thead>\n",
       "  <tbody>\n",
       "    <tr>\n",
       "      <th>0</th>\n",
       "      <td>1998</td>\n",
       "      <td>Armageddon</td>\n",
       "      <td>554000000</td>\n",
       "      <td>[Bruce Willis, Billy Bob Thornton, Ben Affleck...</td>\n",
       "    </tr>\n",
       "    <tr>\n",
       "      <th>1</th>\n",
       "      <td>1999</td>\n",
       "      <td>The Matrix</td>\n",
       "      <td>463517383</td>\n",
       "      <td>[Keanu Reeves, Laurence Fishburne, Carrie-Anne...</td>\n",
       "    </tr>\n",
       "    <tr>\n",
       "      <th>2</th>\n",
       "      <td>2000</td>\n",
       "      <td>Remember the Titans</td>\n",
       "      <td>115600000</td>\n",
       "      <td>[Denzel Washington, Will Patton, Wood Harris, ...</td>\n",
       "    </tr>\n",
       "    <tr>\n",
       "      <th>3</th>\n",
       "      <td>2001</td>\n",
       "      <td>Donnie Darko</td>\n",
       "      <td>7510877</td>\n",
       "      <td>[Jake Gyllenhaal, Holmes Osborne, Maggie Gylle...</td>\n",
       "    </tr>\n",
       "  </tbody>\n",
       "</table>\n",
       "</div>"
      ],
      "text/plain": [
       "   year (N)            title (S)  gross (N)  \\\n",
       "0      1998           Armageddon  554000000   \n",
       "1      1999           The Matrix  463517383   \n",
       "2      2000  Remember the Titans  115600000   \n",
       "3      2001         Donnie Darko    7510877   \n",
       "\n",
       "                                       starring (SS)  \n",
       "0  [Bruce Willis, Billy Bob Thornton, Ben Affleck...  \n",
       "1  [Keanu Reeves, Laurence Fishburne, Carrie-Anne...  \n",
       "2  [Denzel Washington, Will Patton, Wood Harris, ...  \n",
       "3  [Jake Gyllenhaal, Holmes Osborne, Maggie Gylle...  "
      ]
     },
     "execution_count": 23,
     "metadata": {},
     "output_type": "execute_result"
    }
   ],
   "source": [
    "d"
   ]
  },
  {
   "cell_type": "code",
   "execution_count": 24,
   "metadata": {},
   "outputs": [
    {
     "name": "stdout",
     "output_type": "stream",
     "text": [
      "int64\n",
      "object\n",
      "int64\n",
      "object\n",
      "Loading df record: 0\n",
      "Loading df record: 1\n",
      "Loading df record: 2\n",
      "Loading df record: 3\n"
     ]
    },
    {
     "data": {
      "text/plain": [
       "{'ResponseMetadata': {'RequestId': 'BOULGEJTS23OABOFHKHAHIA6DJVV4KQNSO5AEMVJF66Q9ASUAAJG',\n",
       "  'HTTPStatusCode': 200,\n",
       "  'HTTPHeaders': {'server': 'Server',\n",
       "   'date': 'Sat, 26 Sep 2020 23:49:43 GMT',\n",
       "   'content-type': 'application/x-amz-json-1.0',\n",
       "   'content-length': '2',\n",
       "   'connection': 'keep-alive',\n",
       "   'x-amzn-requestid': 'BOULGEJTS23OABOFHKHAHIA6DJVV4KQNSO5AEMVJF66Q9ASUAAJG',\n",
       "   'x-amz-crc32': '2745614147'},\n",
       "  'RetryAttempts': 0}}"
      ]
     },
     "execution_count": 24,
     "metadata": {},
     "output_type": "execute_result"
    }
   ],
   "source": [
    "AWS.load_dynamo(\n",
    "    pub=os.environ['aws_secret_access_id_cc'], \n",
    "    sec=os.environ['aws_secret_access_key_cc'],\n",
    "    region_name=region, \n",
    "    tbl_name=tbl_name, \n",
    "    d=d\n",
    ")"
   ]
  },
  {
   "cell_type": "markdown",
   "metadata": {},
   "source": [
    "## Retrieving Data"
   ]
  },
  {
   "cell_type": "markdown",
   "metadata": {},
   "source": [
    "Let's look at some examples where we retrieve data from DynamoDB."
   ]
  },
  {
   "cell_type": "markdown",
   "metadata": {},
   "source": [
    "### Getting Fields"
   ]
  },
  {
   "cell_type": "markdown",
   "metadata": {},
   "source": [
    "Here we have a helpful function to just grab the list of fields in our table."
   ]
  },
  {
   "cell_type": "code",
   "execution_count": 25,
   "metadata": {},
   "outputs": [],
   "source": [
    "fields = \\\n",
    "    AWS.get_dynamo_fields(\n",
    "        tbl_name=tbl_name, \n",
    "        pub=os.environ['aws_secret_access_id_cc'], \n",
    "        sec=os.environ['aws_secret_access_key_cc'],\n",
    "        region_name=region\n",
    "    )"
   ]
  },
  {
   "cell_type": "code",
   "execution_count": 26,
   "metadata": {},
   "outputs": [
    {
     "data": {
      "text/plain": [
       "['title',\n",
       " 'test_string',\n",
       " 'test_number',\n",
       " 'test_string_set',\n",
       " 'test_list',\n",
       " 'test_numbered_set',\n",
       " 'starring',\n",
       " 'test_bool',\n",
       " 'gross',\n",
       " 'year']"
      ]
     },
     "execution_count": 26,
     "metadata": {},
     "output_type": "execute_result"
    }
   ],
   "source": [
    "fields"
   ]
  },
  {
   "cell_type": "markdown",
   "metadata": {},
   "source": [
    "### Dictionaries"
   ]
  },
  {
   "cell_type": "markdown",
   "metadata": {},
   "source": [
    "The first example is pretty straightforward, let's get a list of dictionaries from our DynamoDB table.\n",
    "\n",
    "We leave fields=False to just select all the attributes, we can pass a list of attribute names to just select those if we want."
   ]
  },
  {
   "cell_type": "code",
   "execution_count": 27,
   "metadata": {},
   "outputs": [],
   "source": [
    "ret = \\\n",
    "    AWS.query_dynamo(\n",
    "        tbl_name=tbl_name, \n",
    "        pub=os.environ['aws_secret_access_id_cc'], \n",
    "        sec=os.environ['aws_secret_access_key_cc'],\n",
    "        region_name=region,\n",
    "        data_format=\"list\", \n",
    "        fields=False\n",
    "    )"
   ]
  },
  {
   "cell_type": "code",
   "execution_count": 28,
   "metadata": {},
   "outputs": [
    {
     "data": {
      "text/plain": [
       "[{'title': ['The Matrix',\n",
       "   'Titantic',\n",
       "   'Remember the Titans',\n",
       "   'Armageddon',\n",
       "   'Donnie Darko']},\n",
       " {'test_string': [None, 'Australia', None, None, None]},\n",
       " {'test_number': [None, Decimal('99.99'), None, None, None]},\n",
       " {'test_string_set': [None,\n",
       "   {'Bar', 'Foo', 'Hello', 'World'},\n",
       "   None,\n",
       "   None,\n",
       "   None]},\n",
       " {'test_list': [None, [Decimal('1'), 'Hello'], None, None, None]},\n",
       " {'test_numbered_set': [None,\n",
       "   {Decimal('0'), Decimal('1'), Decimal('2'), Decimal('3'), Decimal('4')},\n",
       "   None,\n",
       "   None,\n",
       "   None]},\n",
       " {'starring': [{'Carrie-Anne Moss',\n",
       "    'Hugo Weaving',\n",
       "    'Keanu Reeves',\n",
       "    'Laurence Fishburne'},\n",
       "   None,\n",
       "   {'Denzel Washington', 'Ryan Hurst', 'Will Patton', 'Wood Harris'},\n",
       "   {'Ben Affleck', 'Billy Bob Thornton', 'Bruce Willis', 'Liv Tyler'},\n",
       "   {'Holmes Osborne', 'Jake Gyllenhaal', 'Maggie Gyllenhaal'}]},\n",
       " {'test_bool': [None, True, None, None, None]},\n",
       " {'gross': [Decimal('463517383'),\n",
       "   None,\n",
       "   Decimal('115600000'),\n",
       "   Decimal('554000000'),\n",
       "   Decimal('7510877')]},\n",
       " {'year': [Decimal('1999'),\n",
       "   Decimal('1997'),\n",
       "   Decimal('2000'),\n",
       "   Decimal('1998'),\n",
       "   Decimal('2001')]}]"
      ]
     },
     "execution_count": 28,
     "metadata": {},
     "output_type": "execute_result"
    }
   ],
   "source": [
    "ret"
   ]
  },
  {
   "cell_type": "markdown",
   "metadata": {},
   "source": [
    "Let's select just year and title now."
   ]
  },
  {
   "cell_type": "code",
   "execution_count": 29,
   "metadata": {},
   "outputs": [],
   "source": [
    "ret = \\\n",
    "    AWS.query_dynamo(\n",
    "        tbl_name=tbl_name, \n",
    "        pub=os.environ['aws_secret_access_id_cc'], \n",
    "        sec=os.environ['aws_secret_access_key_cc'],\n",
    "        region_name=region,\n",
    "        data_format=\"list\", \n",
    "        fields=[\"year\",\"title\"]\n",
    "    )"
   ]
  },
  {
   "cell_type": "code",
   "execution_count": 30,
   "metadata": {},
   "outputs": [
    {
     "data": {
      "text/plain": [
       "[{'year': [Decimal('1999'),\n",
       "   Decimal('1997'),\n",
       "   Decimal('2000'),\n",
       "   Decimal('1998'),\n",
       "   Decimal('2001')]},\n",
       " {'title': ['The Matrix',\n",
       "   'Titantic',\n",
       "   'Remember the Titans',\n",
       "   'Armageddon',\n",
       "   'Donnie Darko']}]"
      ]
     },
     "execution_count": 30,
     "metadata": {},
     "output_type": "execute_result"
    }
   ],
   "source": [
    "ret"
   ]
  },
  {
   "cell_type": "markdown",
   "metadata": {},
   "source": [
    "### DataFrames"
   ]
  },
  {
   "cell_type": "markdown",
   "metadata": {},
   "source": [
    "Let's try getting Dynamo data into Pandas."
   ]
  },
  {
   "cell_type": "code",
   "execution_count": 31,
   "metadata": {},
   "outputs": [],
   "source": [
    "ret = \\\n",
    "    AWS.query_dynamo(\n",
    "        tbl_name=tbl_name, \n",
    "        pub=os.environ['aws_secret_access_id_cc'], \n",
    "        sec=os.environ['aws_secret_access_key_cc'],\n",
    "        region_name=region,\n",
    "        data_format=\"df\", \n",
    "        fields=False\n",
    "    )"
   ]
  },
  {
   "cell_type": "code",
   "execution_count": 32,
   "metadata": {},
   "outputs": [
    {
     "data": {
      "text/html": [
       "<div>\n",
       "<style scoped>\n",
       "    .dataframe tbody tr th:only-of-type {\n",
       "        vertical-align: middle;\n",
       "    }\n",
       "\n",
       "    .dataframe tbody tr th {\n",
       "        vertical-align: top;\n",
       "    }\n",
       "\n",
       "    .dataframe thead th {\n",
       "        text-align: right;\n",
       "    }\n",
       "</style>\n",
       "<table border=\"1\" class=\"dataframe\">\n",
       "  <thead>\n",
       "    <tr style=\"text-align: right;\">\n",
       "      <th></th>\n",
       "      <th>title</th>\n",
       "      <th>test_string</th>\n",
       "      <th>test_number</th>\n",
       "      <th>test_string_set</th>\n",
       "      <th>test_list</th>\n",
       "      <th>test_numbered_set</th>\n",
       "      <th>starring</th>\n",
       "      <th>test_bool</th>\n",
       "      <th>gross</th>\n",
       "      <th>year</th>\n",
       "    </tr>\n",
       "  </thead>\n",
       "  <tbody>\n",
       "    <tr>\n",
       "      <th>0</th>\n",
       "      <td>The Matrix</td>\n",
       "      <td>None</td>\n",
       "      <td>None</td>\n",
       "      <td>None</td>\n",
       "      <td>None</td>\n",
       "      <td>None</td>\n",
       "      <td>{Keanu Reeves, Hugo Weaving, Laurence Fishburn...</td>\n",
       "      <td>None</td>\n",
       "      <td>463517383</td>\n",
       "      <td>1999</td>\n",
       "    </tr>\n",
       "    <tr>\n",
       "      <th>1</th>\n",
       "      <td>Titantic</td>\n",
       "      <td>Australia</td>\n",
       "      <td>99.99</td>\n",
       "      <td>{Foo, Hello, Bar, World}</td>\n",
       "      <td>[1, Hello]</td>\n",
       "      <td>{0, 1, 2, 3, 4}</td>\n",
       "      <td>None</td>\n",
       "      <td>True</td>\n",
       "      <td>None</td>\n",
       "      <td>1997</td>\n",
       "    </tr>\n",
       "    <tr>\n",
       "      <th>2</th>\n",
       "      <td>Remember the Titans</td>\n",
       "      <td>None</td>\n",
       "      <td>None</td>\n",
       "      <td>None</td>\n",
       "      <td>None</td>\n",
       "      <td>None</td>\n",
       "      <td>{Ryan Hurst, Will Patton, Denzel Washington, W...</td>\n",
       "      <td>None</td>\n",
       "      <td>115600000</td>\n",
       "      <td>2000</td>\n",
       "    </tr>\n",
       "    <tr>\n",
       "      <th>3</th>\n",
       "      <td>Armageddon</td>\n",
       "      <td>None</td>\n",
       "      <td>None</td>\n",
       "      <td>None</td>\n",
       "      <td>None</td>\n",
       "      <td>None</td>\n",
       "      <td>{Bruce Willis, Ben Affleck, Billy Bob Thornton...</td>\n",
       "      <td>None</td>\n",
       "      <td>554000000</td>\n",
       "      <td>1998</td>\n",
       "    </tr>\n",
       "    <tr>\n",
       "      <th>4</th>\n",
       "      <td>Donnie Darko</td>\n",
       "      <td>None</td>\n",
       "      <td>None</td>\n",
       "      <td>None</td>\n",
       "      <td>None</td>\n",
       "      <td>None</td>\n",
       "      <td>{Holmes Osborne, Maggie Gyllenhaal, Jake Gylle...</td>\n",
       "      <td>None</td>\n",
       "      <td>7510877</td>\n",
       "      <td>2001</td>\n",
       "    </tr>\n",
       "  </tbody>\n",
       "</table>\n",
       "</div>"
      ],
      "text/plain": [
       "                 title test_string test_number           test_string_set  \\\n",
       "0           The Matrix        None        None                      None   \n",
       "1             Titantic   Australia       99.99  {Foo, Hello, Bar, World}   \n",
       "2  Remember the Titans        None        None                      None   \n",
       "3           Armageddon        None        None                      None   \n",
       "4         Donnie Darko        None        None                      None   \n",
       "\n",
       "    test_list test_numbered_set  \\\n",
       "0        None              None   \n",
       "1  [1, Hello]   {0, 1, 2, 3, 4}   \n",
       "2        None              None   \n",
       "3        None              None   \n",
       "4        None              None   \n",
       "\n",
       "                                            starring test_bool      gross  \\\n",
       "0  {Keanu Reeves, Hugo Weaving, Laurence Fishburn...      None  463517383   \n",
       "1                                               None      True       None   \n",
       "2  {Ryan Hurst, Will Patton, Denzel Washington, W...      None  115600000   \n",
       "3  {Bruce Willis, Ben Affleck, Billy Bob Thornton...      None  554000000   \n",
       "4  {Holmes Osborne, Maggie Gyllenhaal, Jake Gylle...      None    7510877   \n",
       "\n",
       "   year  \n",
       "0  1999  \n",
       "1  1997  \n",
       "2  2000  \n",
       "3  1998  \n",
       "4  2001  "
      ]
     },
     "execution_count": 32,
     "metadata": {},
     "output_type": "execute_result"
    }
   ],
   "source": [
    "ret"
   ]
  },
  {
   "cell_type": "markdown",
   "metadata": {},
   "source": [
    "And let's do the same as before with just the same two fields."
   ]
  },
  {
   "cell_type": "code",
   "execution_count": 33,
   "metadata": {},
   "outputs": [],
   "source": [
    "ret = \\\n",
    "    AWS.query_dynamo(\n",
    "        tbl_name=tbl_name, \n",
    "        pub=os.environ['aws_secret_access_id_cc'], \n",
    "        sec=os.environ['aws_secret_access_key_cc'],\n",
    "        region_name=region,\n",
    "        data_format=\"df\", \n",
    "        fields=[\"year\",\"title\"]\n",
    "    )"
   ]
  },
  {
   "cell_type": "code",
   "execution_count": 34,
   "metadata": {},
   "outputs": [
    {
     "data": {
      "text/html": [
       "<div>\n",
       "<style scoped>\n",
       "    .dataframe tbody tr th:only-of-type {\n",
       "        vertical-align: middle;\n",
       "    }\n",
       "\n",
       "    .dataframe tbody tr th {\n",
       "        vertical-align: top;\n",
       "    }\n",
       "\n",
       "    .dataframe thead th {\n",
       "        text-align: right;\n",
       "    }\n",
       "</style>\n",
       "<table border=\"1\" class=\"dataframe\">\n",
       "  <thead>\n",
       "    <tr style=\"text-align: right;\">\n",
       "      <th></th>\n",
       "      <th>year</th>\n",
       "      <th>title</th>\n",
       "    </tr>\n",
       "  </thead>\n",
       "  <tbody>\n",
       "    <tr>\n",
       "      <th>0</th>\n",
       "      <td>1999</td>\n",
       "      <td>The Matrix</td>\n",
       "    </tr>\n",
       "    <tr>\n",
       "      <th>1</th>\n",
       "      <td>1997</td>\n",
       "      <td>Titantic</td>\n",
       "    </tr>\n",
       "    <tr>\n",
       "      <th>2</th>\n",
       "      <td>2000</td>\n",
       "      <td>Remember the Titans</td>\n",
       "    </tr>\n",
       "    <tr>\n",
       "      <th>3</th>\n",
       "      <td>1998</td>\n",
       "      <td>Armageddon</td>\n",
       "    </tr>\n",
       "    <tr>\n",
       "      <th>4</th>\n",
       "      <td>2001</td>\n",
       "      <td>Donnie Darko</td>\n",
       "    </tr>\n",
       "  </tbody>\n",
       "</table>\n",
       "</div>"
      ],
      "text/plain": [
       "   year                title\n",
       "0  1999           The Matrix\n",
       "1  1997             Titantic\n",
       "2  2000  Remember the Titans\n",
       "3  1998           Armageddon\n",
       "4  2001         Donnie Darko"
      ]
     },
     "execution_count": 34,
     "metadata": {},
     "output_type": "execute_result"
    }
   ],
   "source": [
    "ret"
   ]
  },
  {
   "cell_type": "markdown",
   "metadata": {},
   "source": [
    "### Redshift"
   ]
  },
  {
   "cell_type": "code",
   "execution_count": 35,
   "metadata": {},
   "outputs": [],
   "source": [
    "#import the Redshift connection class\n",
    "from pymagic.db_conn_tools import Redshift\n",
    "\n",
    "#psycopg2\n",
    "cursor_rs, conn_rs = Redshift.conn_rs_pg(\n",
    "    host=os.environ['example_rs_host'],\n",
    "    db=os.environ['example_rs_db'],\n",
    "    user=os.environ['example_rs_user'],\n",
    "    pwd=os.environ['example_rs_pwd'],\n",
    "    port=os.environ['example_rs_port'],\n",
    ")\n",
    "\n",
    "#import the Redshift ETL class\n",
    "from pymagic.db_etl_tools import Redshift\n",
    "\n",
    "# tbl_name = \"rs_test_data_from_s3\"\n",
    "tbl_name = \"dynamo_test\""
   ]
  },
  {
   "cell_type": "markdown",
   "metadata": {},
   "source": [
    "**Important:** Redshift only supports Number and String columns for now, so let's change our CREATE TABLE query to just create those types of columns."
   ]
  },
  {
   "cell_type": "code",
   "execution_count": 36,
   "metadata": {},
   "outputs": [
    {
     "name": "stdout",
     "output_type": "stream",
     "text": [
      "\u001b[31mRuntime: 0.0025813666666666666\n",
      "\u001b[31mRuntime: 0.0025795666666666665\n"
     ]
    }
   ],
   "source": [
    "#if we already created the table, lets drop it so we can re-create\n",
    "try:\n",
    "    Redshift.run_query_rs(sql=f\"drop table {tbl_name}\",conn=conn_rs)\n",
    "except:\n",
    "    conn_rs.commit()\n",
    "    pass\n",
    "\n",
    "#create the new table\n",
    "sql = \\\n",
    "f'''\n",
    "CREATE TABLE dynamo_test ( year INTEGER, gross FLOAT, title VARCHAR(20))\n",
    "'''\n",
    "Redshift.run_query_rs(sql=sql,conn=conn_rs)"
   ]
  },
  {
   "cell_type": "code",
   "execution_count": 38,
   "metadata": {},
   "outputs": [],
   "source": [
    "AWS.dynamo_to_redshift(\n",
    "    cursor=cursor_rs, \n",
    "    pub=os.environ['aws_secret_access_id_cc'], \n",
    "    sec=os.environ['aws_secret_access_key_cc'],\n",
    "    tbl_name_rs=tbl_name, \n",
    "    tbl_name_dynamo=tbl_name, \n",
    "    readratio=10, \n",
    "    fields=[\"year\",\"gross\",\"title\"]\n",
    ")"
   ]
  }
 ],
 "metadata": {
  "kernelspec": {
   "display_name": "Python 3",
   "language": "python",
   "name": "python3"
  },
  "language_info": {
   "codemirror_mode": {
    "name": "ipython",
    "version": 3
   },
   "file_extension": ".py",
   "mimetype": "text/x-python",
   "name": "python",
   "nbconvert_exporter": "python",
   "pygments_lexer": "ipython3",
   "version": "3.8.0"
  },
  "toc": {
   "base_numbering": 1,
   "nav_menu": {},
   "number_sections": true,
   "sideBar": true,
   "skip_h1_title": false,
   "title_cell": "Table of Contents",
   "title_sidebar": "Contents",
   "toc_cell": false,
   "toc_position": {
    "height": "calc(100% - 180px)",
    "left": "10px",
    "top": "150px",
    "width": "237.188px"
   },
   "toc_section_display": true,
   "toc_window_display": true
  }
 },
 "nbformat": 4,
 "nbformat_minor": 2
}
