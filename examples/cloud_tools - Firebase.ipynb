{
 "cells": [
  {
   "cell_type": "markdown",
   "metadata": {},
   "source": [
    "# Cloud Tools - Firebase"
   ]
  },
  {
   "cell_type": "code",
   "execution_count": 1,
   "metadata": {},
   "outputs": [],
   "source": [
    "import os\n",
    "import sys\n",
    "from pymagic.cloud_tools import Firebase\n",
    "import firebase_admin\n",
    "from firebase_admin import firestore"
   ]
  },
  {
   "cell_type": "markdown",
   "metadata": {},
   "source": [
    "# App Initialization"
   ]
  },
  {
   "cell_type": "markdown",
   "metadata": {},
   "source": [
    "To interact with Firebase's SDK through Python, we have to create an 'app' instance of our Firebase project.\n",
    "\n",
    "For this you specify the URLs of your project as well as your authentication token."
   ]
  },
  {
   "cell_type": "code",
   "execution_count": 2,
   "metadata": {},
   "outputs": [],
   "source": [
    "firebase_app_client = \\\n",
    "    Firebase.initapp(\n",
    "        storage_url=os.environ['example_firebase_storage_url'],\n",
    "        db_url=os.environ['example_firebase_db_url'],\n",
    "        token_path=os.environ['example_firebase_token_path']\n",
    ")\n",
    "\n",
    "firestore_client = \\\n",
    "    firebase_admin.firestore.client(\n",
    "        app=firebase_app_client\n",
    ")\n",
    "\n",
    "database = firestore.client()"
   ]
  },
  {
   "cell_type": "markdown",
   "metadata": {},
   "source": [
    "# FireStorage"
   ]
  },
  {
   "cell_type": "markdown",
   "metadata": {},
   "source": [
    "FireStorage is Firebase's file storage service, similar to AWS's S3."
   ]
  },
  {
   "cell_type": "markdown",
   "metadata": {},
   "source": [
    "## Send File to Bucket"
   ]
  },
  {
   "cell_type": "code",
   "execution_count": 3,
   "metadata": {},
   "outputs": [],
   "source": [
    "if sys.platform == \"linux\":\n",
    "    sav_dir = \"/home/collier/test_folder/\"\n",
    "else:\n",
    "    sav_dir = \"/Users/collier/Downloads/\"\n",
    "\n",
    "Firebase.file_to_bucket(\n",
    "    blob_name=\"test.png\",\n",
    "    file_path=sav_dir + \"test.png\",\n",
    "    content_type='image/png',\n",
    "    metadata_d={\"test_key\": 'test_val'}\n",
    ")"
   ]
  },
  {
   "cell_type": "markdown",
   "metadata": {},
   "source": [
    "## List Bucket Objects"
   ]
  },
  {
   "cell_type": "markdown",
   "metadata": {},
   "source": [
    "This function returns a list of bucket objects. From these objects you can retrieve object names, time_created, metadata and more!  Let's print the names of our bucket objects."
   ]
  },
  {
   "cell_type": "code",
   "execution_count": 4,
   "metadata": {},
   "outputs": [],
   "source": [
    "bucket_blobs = Firebase.list_bucket_objects()"
   ]
  },
  {
   "cell_type": "code",
   "execution_count": 5,
   "metadata": {},
   "outputs": [
    {
     "data": {
      "text/plain": [
       "['test.png']"
      ]
     },
     "execution_count": 5,
     "metadata": {},
     "output_type": "execute_result"
    }
   ],
   "source": [
    "[x.name for x in bucket_blobs[-1:]]"
   ]
  },
  {
   "cell_type": "markdown",
   "metadata": {},
   "source": [
    "## Delete Bucket Object"
   ]
  },
  {
   "cell_type": "code",
   "execution_count": 12,
   "metadata": {},
   "outputs": [
    {
     "name": "stdout",
     "output_type": "stream",
     "text": [
      "Blob test.png deleted.\n"
     ]
    }
   ],
   "source": [
    "Firebase.delete_bucket_object(\n",
    "    blob_name=\"test.png\"\n",
    ")"
   ]
  },
  {
   "cell_type": "markdown",
   "metadata": {},
   "source": [
    "# FireStore"
   ]
  },
  {
   "cell_type": "markdown",
   "metadata": {},
   "source": [
    "FireStore is Firebase's flagship collection/document-based NoSQL database. Similar to AWS's DynamoDB."
   ]
  },
  {
   "cell_type": "markdown",
   "metadata": {},
   "source": [
    "## FireStore Objects"
   ]
  },
  {
   "cell_type": "markdown",
   "metadata": {},
   "source": [
    "From [this Firbease blog](https://firebase.googleblog.com/2019/06/understanding-collection-group-queries.html): \"In Cloud Firestore, your data is divided up into documents and collections. Documents often point to subcollections that contain other documents, like in this example, where each restaurant document contains a subcollection with all the reviews of that restaurant."
   ]
  },
  {
   "cell_type": "raw",
   "metadata": {},
   "source": [
    "<img src=\"https://2.bp.blogspot.com/-nv3LtEi-3K4/XQql2xyOtQI/AAAAAAAADoQ/v7lMvVE4ElAr7ezloD7ZQrvJGCBG-mQoACLcBGAs/s1600/2.png\" width=60 height=60 />"
   ]
  },
  {
   "cell_type": "markdown",
   "metadata": {},
   "source": [
    "So in order to interact with Firestore, we need to specify the sequence of objects needed to reach the final object we are creating/updating/deleting."
   ]
  },
  {
   "cell_type": "markdown",
   "metadata": {},
   "source": [
    "## Creating/Updating Documents"
   ]
  },
  {
   "cell_type": "markdown",
   "metadata": {},
   "source": [
    "Let's create some objects in our database."
   ]
  },
  {
   "cell_type": "markdown",
   "metadata": {},
   "source": [
    "###  Inside a Collection"
   ]
  },
  {
   "cell_type": "markdown",
   "metadata": {},
   "source": [
    "When we add a document to our database, we need to specify that the parent object type is a 'collection' as well as that collection's name.\n",
    "\n",
    "If the collection does not exist, Firebase will create it for us."
   ]
  },
  {
   "cell_type": "code",
   "execution_count": 32,
   "metadata": {},
   "outputs": [],
   "source": [
    "#define the collection/document path\n",
    "obj_types = [\"collection\",\"document\"]\n",
    "obj_names = [\"test_collection\",\"test_document\"]"
   ]
  },
  {
   "cell_type": "markdown",
   "metadata": {},
   "source": [
    "#### Creating"
   ]
  },
  {
   "cell_type": "code",
   "execution_count": 33,
   "metadata": {},
   "outputs": [
    {
     "name": "stdout",
     "output_type": "stream",
     "text": [
      "collection\n",
      "document\n"
     ]
    },
    {
     "data": {
      "text/plain": [
       "update_time {\n",
       "  seconds: 1603053909\n",
       "  nanos: 777949000\n",
       "}"
      ]
     },
     "execution_count": 33,
     "metadata": {},
     "output_type": "execute_result"
    }
   ],
   "source": [
    "Firebase.load_delete_firestore(\n",
    "    method=\"insert\",\n",
    "    obj_types=obj_types,\n",
    "    obj_names=obj_names,\n",
    "    #new document contents\n",
    "    d={\"field\":\"val\"}\n",
    ")"
   ]
  },
  {
   "cell_type": "markdown",
   "metadata": {},
   "source": [
    "#### Updating"
   ]
  },
  {
   "cell_type": "markdown",
   "metadata": {},
   "source": [
    "If we want to update a document, we have several options.  \n",
    "\n",
    "First, let's perform a straight update which completelt overwrites the document's data.\n",
    "\n",
    "Here we need to specify the tree of objects that lead to the document to update:"
   ]
  },
  {
   "cell_type": "code",
   "execution_count": 34,
   "metadata": {},
   "outputs": [],
   "source": [
    "#define the collection/document path\n",
    "obj_types = [\"collection\",\"document\"]\n",
    "obj_names = [\"test_collection\",\"test_document\"]"
   ]
  },
  {
   "cell_type": "code",
   "execution_count": 35,
   "metadata": {},
   "outputs": [
    {
     "name": "stdout",
     "output_type": "stream",
     "text": [
      "collection\n",
      "document\n",
      "no key constraint, running straight update...\n"
     ]
    },
    {
     "data": {
      "text/plain": [
       "update_time {\n",
       "  seconds: 1603053947\n",
       "  nanos: 517773000\n",
       "}"
      ]
     },
     "execution_count": 35,
     "metadata": {},
     "output_type": "execute_result"
    }
   ],
   "source": [
    "Firebase.load_delete_firestore(\n",
    "    method=\"update\",\n",
    "    obj_types=obj_types,\n",
    "    obj_names=obj_names,\n",
    "    #updated document contents\n",
    "    d={\"field_updated\":\"val_updated\"}\n",
    ")"
   ]
  },
  {
   "cell_type": "markdown",
   "metadata": {},
   "source": [
    "#### Updating with a Constraint"
   ]
  },
  {
   "cell_type": "markdown",
   "metadata": {},
   "source": [
    "What if we don't want to perform am update, but only want to update a document if it meets some constraint, such as a field having a certain value.  This will search for documents that have the key constraint.\n",
    "\n",
    "To do that, we just need to include a 'constraint_key' and its value in our function call.\n",
    "\n",
    "Now we will only update documents that meet this condition.\n",
    "\n",
    "Notice that we left off the 'doc_key' key and value in our dictionary since this operation will keep the existing 'doc_key' in the database and simply update the 'doc_data' values.\n",
    "\n",
    "Also, notice that in our collection/document path, we fall back to our root collection containing the documents we are seeing to update."
   ]
  },
  {
   "cell_type": "code",
   "execution_count": 36,
   "metadata": {},
   "outputs": [],
   "source": [
    "#define the collection/document path\n",
    "obj_types = [\"collection\"]\n",
    "obj_names = [\"test_collection\"]"
   ]
  },
  {
   "cell_type": "code",
   "execution_count": 37,
   "metadata": {},
   "outputs": [
    {
     "name": "stdout",
     "output_type": "stream",
     "text": [
      "collection\n",
      "update with key constraint...\n",
      "updating 1 documents that met key constraint...\n",
      "updating document 0\n"
     ]
    },
    {
     "data": {
      "text/plain": [
       "[update_time {\n",
       "   seconds: 1603053994\n",
       "   nanos: 871689000\n",
       " }]"
      ]
     },
     "execution_count": 37,
     "metadata": {},
     "output_type": "execute_result"
    }
   ],
   "source": [
    "Firebase.load_delete_firestore(\n",
    "    method=\"update\",\n",
    "    obj_types=obj_types,\n",
    "    obj_names=obj_names,\n",
    "    constraint_key=\"field_updated\",\n",
    "    constraint_val=\"val_updated\",\n",
    "    #updated document contents\n",
    "    d={\"field_updated\":\"val_updated_new\"}\n",
    ")"
   ]
  },
  {
   "cell_type": "markdown",
   "metadata": {},
   "source": [
    "#### Upserting with a Constraint"
   ]
  },
  {
   "cell_type": "markdown",
   "metadata": {},
   "source": [
    "What if we attempt to update a document using a key constraint, but no document exists?  In that case we would want to insert it into the collection.  This type of operation is called an **Upsert**.\n",
    "\n",
    "To accomplish this, simply add a value to the 'upsert_doc_name' in the function call, this will create a new document with that name if the constraint key is not found."
   ]
  },
  {
   "cell_type": "code",
   "execution_count": 38,
   "metadata": {},
   "outputs": [],
   "source": [
    "#define the collection/document path\n",
    "obj_types = [\"collection\"]\n",
    "obj_names = [\"test_collection\"]"
   ]
  },
  {
   "cell_type": "code",
   "execution_count": 39,
   "metadata": {},
   "outputs": [
    {
     "ename": "TypeError",
     "evalue": "load_delete_firestore() got an unexpected keyword argument 'upsert_doc_name'",
     "output_type": "error",
     "traceback": [
      "\u001b[0;31m---------------------------------------------------------------------------\u001b[0m",
      "\u001b[0;31mTypeError\u001b[0m                                 Traceback (most recent call last)",
      "\u001b[0;32m<ipython-input-39-81505ccc1e74>\u001b[0m in \u001b[0;36m<module>\u001b[0;34m\u001b[0m\n\u001b[0;32m----> 1\u001b[0;31m Firebase.load_delete_firestore(\n\u001b[0m\u001b[1;32m      2\u001b[0m     \u001b[0mmethod\u001b[0m\u001b[0;34m=\u001b[0m\u001b[0;34m\"update\"\u001b[0m\u001b[0;34m,\u001b[0m\u001b[0;34m\u001b[0m\u001b[0;34m\u001b[0m\u001b[0m\n\u001b[1;32m      3\u001b[0m     \u001b[0mobj_types\u001b[0m\u001b[0;34m=\u001b[0m\u001b[0mobj_types\u001b[0m\u001b[0;34m,\u001b[0m\u001b[0;34m\u001b[0m\u001b[0;34m\u001b[0m\u001b[0m\n\u001b[1;32m      4\u001b[0m     \u001b[0mobj_names\u001b[0m\u001b[0;34m=\u001b[0m\u001b[0mobj_names\u001b[0m\u001b[0;34m,\u001b[0m\u001b[0;34m\u001b[0m\u001b[0;34m\u001b[0m\u001b[0m\n\u001b[1;32m      5\u001b[0m     \u001b[0mconstraint_key\u001b[0m\u001b[0;34m=\u001b[0m\u001b[0;34m\"field_updated\"\u001b[0m\u001b[0;34m,\u001b[0m\u001b[0;34m\u001b[0m\u001b[0;34m\u001b[0m\u001b[0m\n",
      "\u001b[0;31mTypeError\u001b[0m: load_delete_firestore() got an unexpected keyword argument 'upsert_doc_name'"
     ]
    }
   ],
   "source": [
    "Firebase.load_delete_firestore(\n",
    "    method=\"update\",\n",
    "    obj_types=obj_types,\n",
    "    obj_names=obj_names,\n",
    "    constraint_key=\"field_updated\",\n",
    "    constraint_val=\"val_update_old\", #doesnt exist\n",
    "    upsert_doc_name=\"test_doc_new\", #new doc name\n",
    "    #updated document contents\n",
    "    d={\"field\":\"val_upsert\"}\n",
    ")"
   ]
  },
  {
   "cell_type": "markdown",
   "metadata": {},
   "source": [
    "### Inside a Subcollection"
   ]
  },
  {
   "cell_type": "markdown",
   "metadata": {},
   "source": [
    "A sub-collection is a collection that lives inside a document.  We can create a sub collection by specifying its name and the names of the parent collection and document.  \n",
    "\n",
    "Notice we specify the object names based on the order of their heirarchy in the database.  This is not required but it helps to undersrand where data is being inserted/updated."
   ]
  },
  {
   "cell_type": "code",
   "execution_count": 11,
   "metadata": {},
   "outputs": [
    {
     "name": "stdout",
     "output_type": "stream",
     "text": [
      "target object: sub_collection...\n",
      "operation method: insert...\n"
     ]
    },
    {
     "data": {
      "text/plain": [
       "update_time {\n",
       "  seconds: 1601163959\n",
       "  nanos: 769187000\n",
       "}"
      ]
     },
     "execution_count": 11,
     "metadata": {},
     "output_type": "execute_result"
    }
   ],
   "source": [
    "Firebase.load_delete_firestore(\n",
    "    method=\"insert\",\n",
    "    parent_object_type=\"sub_collection\",\n",
    "    parent_collection_name=\"test_collection\",\n",
    "    parent_document_name=\"test_doc\",\n",
    "    parent_sub_collection_name=\"test_sub_collection\",\n",
    "    d={\n",
    "        \"doc_key\":\"test_sub_collection_doc\",\n",
    "        \"doc_data\":{\"field\":\"val\"}\n",
    "      }\n",
    ")"
   ]
  },
  {
   "cell_type": "markdown",
   "metadata": {},
   "source": [
    "Let's do the same operations we did on collection documents, this time on sub-collection documents."
   ]
  },
  {
   "cell_type": "code",
   "execution_count": 12,
   "metadata": {},
   "outputs": [
    {
     "name": "stdout",
     "output_type": "stream",
     "text": [
      "target object: sub_collection...\n",
      "operation method: update...\n",
      "no key constraint, running straight update...\n"
     ]
    },
    {
     "data": {
      "text/plain": [
       "update_time {\n",
       "  seconds: 1601163959\n",
       "  nanos: 875315000\n",
       "}"
      ]
     },
     "execution_count": 12,
     "metadata": {},
     "output_type": "execute_result"
    }
   ],
   "source": [
    "#straight update\n",
    "Firebase.load_delete_firestore(\n",
    "    method=\"update\",\n",
    "    parent_object_type=\"sub_collection\",\n",
    "    parent_collection_name=\"test_collection\",\n",
    "    parent_document_name=\"test_doc\",\n",
    "    parent_sub_collection_name=\"test_sub_collection\",    \n",
    "    d={\n",
    "        \"doc_key\":\"test_sub_collection_doc\",\n",
    "        \"doc_data\":{\"field\":\"val_updated\"}\n",
    "      }\n",
    ")"
   ]
  },
  {
   "cell_type": "code",
   "execution_count": 13,
   "metadata": {},
   "outputs": [
    {
     "name": "stdout",
     "output_type": "stream",
     "text": [
      "target object: sub_collection...\n",
      "operation method: update...\n",
      "update with key constraint...\n",
      "updating 1 documents that met key constraint...\n",
      "updating document 0\n"
     ]
    },
    {
     "data": {
      "text/plain": [
       "[update_time {\n",
       "   seconds: 1601163960\n",
       "   nanos: 29143000\n",
       " }]"
      ]
     },
     "execution_count": 13,
     "metadata": {},
     "output_type": "execute_result"
    }
   ],
   "source": [
    "#update with constraint\n",
    "Firebase.load_delete_firestore(\n",
    "    method=\"update\",\n",
    "    parent_object_type=\"sub_collection\",\n",
    "    parent_collection_name=\"test_collection\",\n",
    "    parent_document_name=\"test_doc\",\n",
    "    parent_sub_collection_name=\"test_sub_collection\", \n",
    "    constraint_key=\"field\",\n",
    "    constraint_val=\"val_updated\",\n",
    "    #updated document contents\n",
    "    d={\n",
    "        \"doc_data\":{\"field_updated\":\"val_updated_new\"}\n",
    "      }\n",
    ")"
   ]
  },
  {
   "cell_type": "code",
   "execution_count": 14,
   "metadata": {},
   "outputs": [
    {
     "name": "stdout",
     "output_type": "stream",
     "text": [
      "target object: sub_collection...\n",
      "operation method: update...\n",
      "update with key constraint...\n",
      "no key constraint results found...\n",
      "upsert triggered...inserting document...\n"
     ]
    },
    {
     "data": {
      "text/plain": [
       "update_time {\n",
       "  seconds: 1601163960\n",
       "  nanos: 191911000\n",
       "}"
      ]
     },
     "execution_count": 14,
     "metadata": {},
     "output_type": "execute_result"
    }
   ],
   "source": [
    "#upsert with constraint\n",
    "Firebase.load_delete_firestore(\n",
    "    method=\"update\",\n",
    "    parent_object_type=\"sub_collection\",\n",
    "    parent_collection_name=\"test_collection\",\n",
    "    parent_document_name=\"test_doc\",\n",
    "    parent_sub_collection_name=\"test_sub_collection\", \n",
    "    constraint_key=\"field_updated\",\n",
    "    constraint_val=\"val_updated_old\",\n",
    "    upsert=True,\n",
    "    #updated document contents\n",
    "    d={\n",
    "        \"doc_key\":\"upsert_test\",\n",
    "        \"doc_data\":{\"field\":\"val_upsert\"}\n",
    "      }\n",
    ")"
   ]
  },
  {
   "cell_type": "markdown",
   "metadata": {},
   "source": [
    "## Deleting Objects"
   ]
  },
  {
   "cell_type": "markdown",
   "metadata": {},
   "source": [
    "When deleting objects in Firebase, we can do much of the same types of operations we did when we were updating objects.\n",
    "\n",
    "Let's create a few more objects to delete."
   ]
  },
  {
   "cell_type": "code",
   "execution_count": 15,
   "metadata": {},
   "outputs": [
    {
     "name": "stdout",
     "output_type": "stream",
     "text": [
      "target object: collection...\n",
      "operation method: insert...\n",
      "target object: collection...\n",
      "operation method: insert...\n",
      "target object: collection...\n",
      "operation method: insert...\n",
      "target object: sub_collection...\n",
      "operation method: insert...\n"
     ]
    },
    {
     "data": {
      "text/plain": [
       "update_time {\n",
       "  seconds: 1601163960\n",
       "  nanos: 537962000\n",
       "}"
      ]
     },
     "execution_count": 15,
     "metadata": {},
     "output_type": "execute_result"
    }
   ],
   "source": [
    "#single field to delete in a document\n",
    "Firebase.load_delete_firestore(\n",
    "    method=\"insert\",\n",
    "    parent_object_type=\"collection\",\n",
    "    parent_collection_name=\"test_collection\",\n",
    "    #new document contents\n",
    "    d={\n",
    "        \"doc_key\":\"delete_field\",\n",
    "        \"doc_data\":{\"field_to_delete\":\"val\"}\n",
    "      }\n",
    ")\n",
    "\n",
    "#single document to delete by name\n",
    "Firebase.load_delete_firestore(\n",
    "    method=\"insert\",\n",
    "    parent_object_type=\"collection\",\n",
    "    parent_collection_name=\"test_collection\",\n",
    "    #new document contents\n",
    "    d={\n",
    "        \"doc_key\":\"delete_by_name\",\n",
    "        \"doc_data\":{\"field\":\"val\"}\n",
    "      }\n",
    ")\n",
    "\n",
    "#single document to delete by key constraint\n",
    "Firebase.load_delete_firestore(\n",
    "    method=\"insert\",\n",
    "    parent_object_type=\"collection\",\n",
    "    parent_collection_name=\"test_collection\",\n",
    "    #new document contents\n",
    "    d={\n",
    "        \"doc_key\":\"delete_by_key_constraint\",\n",
    "        \"doc_data\":{\"field\":\"delete_me\"}\n",
    "      }\n",
    ")\n",
    "\n",
    "#single document to delete key constraint \n",
    "# within a subcollection\n",
    "Firebase.load_delete_firestore(\n",
    "    method=\"insert\",\n",
    "    parent_object_type=\"sub_collection\",\n",
    "    parent_collection_name=\"test_collection\",\n",
    "    parent_document_name=\"test_doc\",\n",
    "    parent_sub_collection_name=\"test_sub_collection\",\n",
    "    d={\n",
    "        \"doc_key\":\"delete_by_key_constraint\",\n",
    "        \"doc_data\":{\"field\":\"delete_me\"}\n",
    "      }\n",
    ")"
   ]
  },
  {
   "cell_type": "markdown",
   "metadata": {},
   "source": [
    "### Deleting a Field"
   ]
  },
  {
   "cell_type": "markdown",
   "metadata": {},
   "source": [
    "Let's delete a single field in a document"
   ]
  },
  {
   "cell_type": "code",
   "execution_count": 16,
   "metadata": {},
   "outputs": [
    {
     "name": "stdout",
     "output_type": "stream",
     "text": [
      "target object: field...\n",
      "operation method: delete...\n",
      "deleting document field: field_to_delete...\n"
     ]
    },
    {
     "data": {
      "text/plain": [
       "update_time {\n",
       "  seconds: 1601163960\n",
       "  nanos: 634411000\n",
       "}"
      ]
     },
     "execution_count": 16,
     "metadata": {},
     "output_type": "execute_result"
    }
   ],
   "source": [
    "Firebase.load_delete_firestore(\n",
    "    method=\"delete\",\n",
    "    parent_object_type=\"field\",\n",
    "    parent_collection_name=\"test_collection\",\n",
    "    parent_document_name=\"delete_field\",\n",
    "    constraint_key=\"field_to_delete\"\n",
    ")"
   ]
  },
  {
   "cell_type": "markdown",
   "metadata": {},
   "source": [
    "### Deleting Document by Name"
   ]
  },
  {
   "cell_type": "markdown",
   "metadata": {},
   "source": [
    "Let's delete a document by name."
   ]
  },
  {
   "cell_type": "code",
   "execution_count": 17,
   "metadata": {},
   "outputs": [
    {
     "name": "stdout",
     "output_type": "stream",
     "text": [
      "target object: document...\n",
      "operation method: delete...\n",
      "deleting document...\n"
     ]
    },
    {
     "data": {
      "text/plain": [
       "seconds: 1601163960\n",
       "nanos: 732442000"
      ]
     },
     "execution_count": 17,
     "metadata": {},
     "output_type": "execute_result"
    }
   ],
   "source": [
    "Firebase.load_delete_firestore(\n",
    "    method=\"delete\",\n",
    "    parent_object_type=\"document\",\n",
    "    parent_collection_name=\"test_collection\",\n",
    "    parent_document_name=\"delete_by_name\",\n",
    ")"
   ]
  },
  {
   "cell_type": "markdown",
   "metadata": {},
   "source": [
    "### Deleting  Document by Key Constraint"
   ]
  },
  {
   "cell_type": "code",
   "execution_count": 18,
   "metadata": {},
   "outputs": [
    {
     "name": "stdout",
     "output_type": "stream",
     "text": [
      "target object: collection...\n",
      "operation method: delete...\n",
      "deleting documents with key constraint...\n",
      "Deleting doc: delete_by_key_constraint\n"
     ]
    }
   ],
   "source": [
    "#collection\n",
    "Firebase.load_delete_firestore(\n",
    "    method=\"delete\",\n",
    "    parent_object_type=\"collection\",\n",
    "    parent_collection_name=\"test_collection\",\n",
    "    constraint_key=\"field\",\n",
    "    constraint_val=\"delete_me\"\n",
    ")"
   ]
  },
  {
   "cell_type": "code",
   "execution_count": 19,
   "metadata": {},
   "outputs": [
    {
     "name": "stdout",
     "output_type": "stream",
     "text": [
      "target object: sub_collection...\n",
      "operation method: delete...\n",
      "deleting documents with key constraint...\n",
      "Deleting doc: delete_by_key_constraint\n"
     ]
    }
   ],
   "source": [
    "#subcollection\n",
    "Firebase.load_delete_firestore(\n",
    "    method=\"delete\",\n",
    "    parent_object_type=\"sub_collection\",\n",
    "    parent_collection_name=\"test_collection\",\n",
    "    parent_document_name=\"test_doc\",\n",
    "    parent_sub_collection_name=\"test_sub_collection\",\n",
    "    constraint_key=\"field\",\n",
    "    constraint_val=\"delete_me\"\n",
    ")"
   ]
  },
  {
   "cell_type": "markdown",
   "metadata": {},
   "source": [
    "### Deleting All Documents"
   ]
  },
  {
   "cell_type": "markdown",
   "metadata": {},
   "source": [
    "To delete all documents in a collection or subcollection, we just need to leave off the key constraint argument.\n",
    "\n",
    "You can also specify a 'document_delete_batch_size' to avoid memory errors if the size of the collection is to big.  The function will call itself again if the deleted document count exceeds this limit."
   ]
  },
  {
   "cell_type": "code",
   "execution_count": 20,
   "metadata": {},
   "outputs": [
    {
     "name": "stdout",
     "output_type": "stream",
     "text": [
      "target object: sub_collection...\n",
      "operation method: delete...\n",
      "Deleting doc: test_sub_collection_doc\n",
      "target object: sub_collection...\n",
      "operation method: delete...\n",
      "Deleting doc: upsert_test\n",
      "target object: sub_collection...\n",
      "operation method: delete...\n",
      "No documents found...exiting...\n"
     ]
    }
   ],
   "source": [
    "#subcollection\n",
    "Firebase.load_delete_firestore(\n",
    "    method=\"delete\",\n",
    "    parent_object_type=\"sub_collection\",\n",
    "    parent_collection_name=\"test_collection\",\n",
    "    parent_document_name=\"test_doc\",\n",
    "    parent_sub_collection_name=\"test_sub_collection\",\n",
    "    document_delete_batch_size=1\n",
    "#     constraint_key=\"field\",\n",
    "#     constraint_val=\"delete_me\"\n",
    ")"
   ]
  },
  {
   "cell_type": "code",
   "execution_count": 21,
   "metadata": {},
   "outputs": [
    {
     "name": "stdout",
     "output_type": "stream",
     "text": [
      "target object: collection...\n",
      "operation method: delete...\n",
      "Deleting doc: delete_field\n",
      "target object: collection...\n",
      "operation method: delete...\n",
      "Deleting doc: test_doc\n",
      "target object: collection...\n",
      "operation method: delete...\n",
      "Deleting doc: upsert_test\n",
      "target object: collection...\n",
      "operation method: delete...\n",
      "No documents found...exiting...\n"
     ]
    }
   ],
   "source": [
    "#collection\n",
    "Firebase.load_delete_firestore(\n",
    "    method=\"delete\",\n",
    "    parent_object_type=\"collection\",\n",
    "    parent_collection_name=\"test_collection\",\n",
    "    document_delete_batch_size=1\n",
    "#     constraint_key=\"field\",\n",
    "#     constraint_val=\"delete_me\"\n",
    ")"
   ]
  }
 ],
 "metadata": {
  "kernelspec": {
   "display_name": "Python 3",
   "language": "python",
   "name": "python3"
  },
  "language_info": {
   "codemirror_mode": {
    "name": "ipython",
    "version": 3
   },
   "file_extension": ".py",
   "mimetype": "text/x-python",
   "name": "python",
   "nbconvert_exporter": "python",
   "pygments_lexer": "ipython3",
   "version": "3.8.0"
  },
  "toc": {
   "base_numbering": 1,
   "nav_menu": {},
   "number_sections": true,
   "sideBar": true,
   "skip_h1_title": false,
   "title_cell": "Table of Contents",
   "title_sidebar": "Contents",
   "toc_cell": false,
   "toc_position": {
    "height": "calc(100% - 180px)",
    "left": "10px",
    "top": "150px",
    "width": "209.797px"
   },
   "toc_section_display": true,
   "toc_window_display": true
  }
 },
 "nbformat": 4,
 "nbformat_minor": 2
}
