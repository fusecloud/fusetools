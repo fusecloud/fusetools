{
 "cells": [
  {
   "cell_type": "markdown",
   "metadata": {},
   "source": [
    "# Database ETL Tools"
   ]
  },
  {
   "cell_type": "markdown",
   "metadata": {},
   "source": [
    "This notebook contains Database ETL examples.  \n",
    "\n",
    "In this notebook we will only demo the **Redshift** functions. Similar functions exist in this package for other database types as well:\n",
    "\n",
    "* MySQL\n",
    "* Oracle\n",
    "* Postgres\n",
    "* Teradata\n",
    "* SqlServer"
   ]
  },
  {
   "cell_type": "markdown",
   "metadata": {},
   "source": [
    "# Connecting to a Database"
   ]
  },
  {
   "cell_type": "code",
   "execution_count": 3,
   "metadata": {},
   "outputs": [],
   "source": [
    "import os\n",
    "import pandas as pd\n",
    "import pprint\n",
    "\n",
    "import warnings\n",
    "warnings.filterwarnings('ignore')"
   ]
  },
  {
   "cell_type": "markdown",
   "metadata": {},
   "source": [
    "There are two functions that offer connectivity to Redshift:\n",
    "* **conn_rs_pg**: uses the Postgres **psycopg2** package\n",
    "* **conn_rs_sa**: uses the **sqlalchemy** package\n",
    "\n",
    "\n",
    "To do all of the ETL examples, you will need a **cursor** and a **conn** object which each function provides.\n",
    "\n",
    "For the remainder of the exercises in Redshift we will be using the **conn_rs_pg** package, but both examples are below."
   ]
  },
  {
   "cell_type": "code",
   "execution_count": 4,
   "metadata": {},
   "outputs": [],
   "source": [
    "#import the Redshift connection class\n",
    "from pymagic.db_conn_tools import Redshift\n",
    "\n",
    "#sqlalchemy\n",
    "cursor_rs, conn_rs = Redshift.conn_rs_sa(\n",
    "    host=os.environ['example_rs_host'],\n",
    "    db=os.environ['example_rs_db'],\n",
    "    user=os.environ['example_rs_user'],\n",
    "    pwd=os.environ['example_rs_pwd'],\n",
    "    port=os.environ['example_rs_port']\n",
    ")\n",
    "\n",
    "#psycopg2\n",
    "cursor_rs, conn_rs = Redshift.conn_rs_pg(\n",
    "    host=os.environ['example_rs_host'],\n",
    "    db=os.environ['example_rs_db'],\n",
    "    user=os.environ['example_rs_user'],\n",
    "    pwd=os.environ['example_rs_pwd'],\n",
    "    port=os.environ['example_rs_port']\n",
    ")"
   ]
  },
  {
   "cell_type": "markdown",
   "metadata": {},
   "source": [
    "# Running a Query"
   ]
  },
  {
   "cell_type": "markdown",
   "metadata": {},
   "source": [
    "The **run_query_rs** executes a SQL statement on the server.  \n",
    "All ETL CRUD operations use this under the hood."
   ]
  },
  {
   "cell_type": "code",
   "execution_count": 5,
   "metadata": {},
   "outputs": [],
   "source": [
    "#import the Redshift ETL class\n",
    "from pymagic.db_etl_tools import Redshift"
   ]
  },
  {
   "cell_type": "code",
   "execution_count": 6,
   "metadata": {},
   "outputs": [
    {
     "name": "stdout",
     "output_type": "stream",
     "text": [
      "\u001b[31mRuntime: 0.0020340333333333334\n"
     ]
    }
   ],
   "source": [
    "Redshift.run_query_rs(\n",
    "    conn=conn_rs,\n",
    "    sql=\"select 'hello world'\"\n",
    ")"
   ]
  },
  {
   "cell_type": "markdown",
   "metadata": {},
   "source": [
    "# Creating a Table from Pandas DataFrame"
   ]
  },
  {
   "cell_type": "markdown",
   "metadata": {},
   "source": [
    "For the following exercises, we will go ahead and do a somewhat advanced task.  We will create some tables with data for us to play with for the subsequent examples.\n",
    "\n",
    "Let's read in some data to play with."
   ]
  },
  {
   "cell_type": "code",
   "execution_count": 7,
   "metadata": {},
   "outputs": [],
   "source": [
    "import seaborn as sns;\n",
    "\n",
    "df = sns.load_dataset('flights')\n",
    "df['month'] = df['month'].astype(str)\n",
    "df['year_month'] = df['year'].astype(str) + \"_\" + df['month']"
   ]
  },
  {
   "cell_type": "code",
   "execution_count": 8,
   "metadata": {},
   "outputs": [
    {
     "data": {
      "text/html": [
       "<div>\n",
       "<style scoped>\n",
       "    .dataframe tbody tr th:only-of-type {\n",
       "        vertical-align: middle;\n",
       "    }\n",
       "\n",
       "    .dataframe tbody tr th {\n",
       "        vertical-align: top;\n",
       "    }\n",
       "\n",
       "    .dataframe thead th {\n",
       "        text-align: right;\n",
       "    }\n",
       "</style>\n",
       "<table border=\"1\" class=\"dataframe\">\n",
       "  <thead>\n",
       "    <tr style=\"text-align: right;\">\n",
       "      <th></th>\n",
       "      <th>year</th>\n",
       "      <th>month</th>\n",
       "      <th>passengers</th>\n",
       "      <th>year_month</th>\n",
       "    </tr>\n",
       "  </thead>\n",
       "  <tbody>\n",
       "    <tr>\n",
       "      <th>0</th>\n",
       "      <td>1949</td>\n",
       "      <td>January</td>\n",
       "      <td>112</td>\n",
       "      <td>1949_January</td>\n",
       "    </tr>\n",
       "    <tr>\n",
       "      <th>1</th>\n",
       "      <td>1949</td>\n",
       "      <td>February</td>\n",
       "      <td>118</td>\n",
       "      <td>1949_February</td>\n",
       "    </tr>\n",
       "    <tr>\n",
       "      <th>2</th>\n",
       "      <td>1949</td>\n",
       "      <td>March</td>\n",
       "      <td>132</td>\n",
       "      <td>1949_March</td>\n",
       "    </tr>\n",
       "    <tr>\n",
       "      <th>3</th>\n",
       "      <td>1949</td>\n",
       "      <td>April</td>\n",
       "      <td>129</td>\n",
       "      <td>1949_April</td>\n",
       "    </tr>\n",
       "    <tr>\n",
       "      <th>4</th>\n",
       "      <td>1949</td>\n",
       "      <td>May</td>\n",
       "      <td>121</td>\n",
       "      <td>1949_May</td>\n",
       "    </tr>\n",
       "  </tbody>\n",
       "</table>\n",
       "</div>"
      ],
      "text/plain": [
       "   year     month  passengers     year_month\n",
       "0  1949   January         112   1949_January\n",
       "1  1949  February         118  1949_February\n",
       "2  1949     March         132     1949_March\n",
       "3  1949     April         129     1949_April\n",
       "4  1949       May         121       1949_May"
      ]
     },
     "execution_count": 8,
     "metadata": {},
     "output_type": "execute_result"
    }
   ],
   "source": [
    "df.head()"
   ]
  },
  {
   "cell_type": "code",
   "execution_count": 9,
   "metadata": {},
   "outputs": [],
   "source": [
    "sql = Redshift.make_df_tbl_rs(\n",
    "    df=df,\n",
    "    tbl_name=\"flights\"\n",
    ");"
   ]
  },
  {
   "cell_type": "code",
   "execution_count": 10,
   "metadata": {},
   "outputs": [
    {
     "name": "stdout",
     "output_type": "stream",
     "text": [
      "('CREATE TABLE flights ( year INTEGER, month VARCHAR(9), passengers INTEGER, '\n",
      " 'year_month VARCHAR(14) )')\n"
     ]
    }
   ],
   "source": [
    "pprint.pprint(sql)"
   ]
  },
  {
   "cell_type": "code",
   "execution_count": 11,
   "metadata": {},
   "outputs": [
    {
     "name": "stdout",
     "output_type": "stream",
     "text": [
      "\u001b[31mRuntime: 0.021303766666666668\n",
      "\u001b[31mRuntime: 0.002461483333333333\n"
     ]
    }
   ],
   "source": [
    "try:\n",
    "    #if table already exists, lets drop it\n",
    "    Redshift.run_query_rs(\n",
    "        sql=\"drop table flights\",\n",
    "        conn=conn_rs\n",
    "    )\n",
    "except:\n",
    "    conn_rs.commit()\n",
    "    \n",
    "#create the table\n",
    "Redshift.run_query_rs(\n",
    "    sql=sql,\n",
    "    conn=conn_rs\n",
    "    )   "
   ]
  },
  {
   "cell_type": "markdown",
   "metadata": {},
   "source": [
    "# Inserting from Pandas DataFrame"
   ]
  },
  {
   "cell_type": "markdown",
   "metadata": {},
   "source": [
    "Now that we've create a table in the database based on our Pandas DataFrame, let's actually insert data into it."
   ]
  },
  {
   "cell_type": "code",
   "execution_count": 12,
   "metadata": {},
   "outputs": [
    {
     "name": "stdout",
     "output_type": "stream",
     "text": [
      "\u001b[31mRuntime: 0.054683\n"
     ]
    }
   ],
   "source": [
    "Redshift.insert_df_rs(\n",
    "    cursor=cursor_rs,\n",
    "    conn=conn_rs,\n",
    "    df=df,\n",
    "    tbl_name=\"flights\"\n",
    ")"
   ]
  },
  {
   "cell_type": "markdown",
   "metadata": {},
   "source": [
    "# Reading Data"
   ]
  },
  {
   "cell_type": "markdown",
   "metadata": {},
   "source": [
    "Reading data from a database uses Pandas' read_sql_query function with the SQL and database connection objects as parameters.\n",
    "\n",
    "Let's read the data we loaded back in."
   ]
  },
  {
   "cell_type": "code",
   "execution_count": 13,
   "metadata": {},
   "outputs": [],
   "source": [
    "df = pd.read_sql_query(\n",
    "    sql=\"select * from flights\",\n",
    "    con=conn_rs\n",
    ")"
   ]
  },
  {
   "cell_type": "code",
   "execution_count": 14,
   "metadata": {},
   "outputs": [
    {
     "data": {
      "text/html": [
       "<div>\n",
       "<style scoped>\n",
       "    .dataframe tbody tr th:only-of-type {\n",
       "        vertical-align: middle;\n",
       "    }\n",
       "\n",
       "    .dataframe tbody tr th {\n",
       "        vertical-align: top;\n",
       "    }\n",
       "\n",
       "    .dataframe thead th {\n",
       "        text-align: right;\n",
       "    }\n",
       "</style>\n",
       "<table border=\"1\" class=\"dataframe\">\n",
       "  <thead>\n",
       "    <tr style=\"text-align: right;\">\n",
       "      <th></th>\n",
       "      <th>year</th>\n",
       "      <th>month</th>\n",
       "      <th>passengers</th>\n",
       "      <th>year_month</th>\n",
       "    </tr>\n",
       "  </thead>\n",
       "  <tbody>\n",
       "    <tr>\n",
       "      <th>139</th>\n",
       "      <td>1960</td>\n",
       "      <td>August</td>\n",
       "      <td>606</td>\n",
       "      <td>1960_August</td>\n",
       "    </tr>\n",
       "    <tr>\n",
       "      <th>140</th>\n",
       "      <td>1960</td>\n",
       "      <td>September</td>\n",
       "      <td>508</td>\n",
       "      <td>1960_September</td>\n",
       "    </tr>\n",
       "    <tr>\n",
       "      <th>141</th>\n",
       "      <td>1960</td>\n",
       "      <td>October</td>\n",
       "      <td>461</td>\n",
       "      <td>1960_October</td>\n",
       "    </tr>\n",
       "    <tr>\n",
       "      <th>142</th>\n",
       "      <td>1960</td>\n",
       "      <td>November</td>\n",
       "      <td>390</td>\n",
       "      <td>1960_November</td>\n",
       "    </tr>\n",
       "    <tr>\n",
       "      <th>143</th>\n",
       "      <td>1960</td>\n",
       "      <td>December</td>\n",
       "      <td>432</td>\n",
       "      <td>1960_December</td>\n",
       "    </tr>\n",
       "  </tbody>\n",
       "</table>\n",
       "</div>"
      ],
      "text/plain": [
       "     year      month  passengers      year_month\n",
       "139  1960     August         606     1960_August\n",
       "140  1960  September         508  1960_September\n",
       "141  1960    October         461    1960_October\n",
       "142  1960   November         390   1960_November\n",
       "143  1960   December         432   1960_December"
      ]
     },
     "execution_count": 14,
     "metadata": {},
     "output_type": "execute_result"
    }
   ],
   "source": [
    "df.tail()"
   ]
  },
  {
   "cell_type": "markdown",
   "metadata": {},
   "source": [
    "# Value Inserts"
   ]
  },
  {
   "cell_type": "markdown",
   "metadata": {},
   "source": [
    "Sometimes we want to do a simple INSERT of values into a table row."
   ]
  },
  {
   "cell_type": "code",
   "execution_count": 15,
   "metadata": {},
   "outputs": [],
   "source": [
    "sql = Redshift.insert_val_rs(\n",
    "    col_list=[\"year\",\"month\",\"passengers\",\"year_month\"],\n",
    "    val_list=[1961, \"January\", 487,\"1961_January\"],\n",
    "    tbl_name=\"flights\"\n",
    ")"
   ]
  },
  {
   "cell_type": "code",
   "execution_count": 16,
   "metadata": {},
   "outputs": [
    {
     "name": "stdout",
     "output_type": "stream",
     "text": [
      "('\\n'\n",
      " '        INSERT INTO flights \\n'\n",
      " '        (\\n'\n",
      " '            year, month, passengers, year_month\\n'\n",
      " '        ) values (\\n'\n",
      " \"            1961, 'January', 487, '1961_January'\\n\"\n",
      " '        )\\n'\n",
      " '        ')\n"
     ]
    }
   ],
   "source": [
    "pprint.pprint(sql)"
   ]
  },
  {
   "cell_type": "code",
   "execution_count": 17,
   "metadata": {},
   "outputs": [
    {
     "name": "stdout",
     "output_type": "stream",
     "text": [
      "\u001b[31mRuntime: 0.0022647833333333334\n"
     ]
    }
   ],
   "source": [
    "Redshift.run_query_rs(\n",
    "    sql=sql,\n",
    "    conn=conn_rs\n",
    ")"
   ]
  },
  {
   "cell_type": "code",
   "execution_count": 18,
   "metadata": {},
   "outputs": [],
   "source": [
    "df = pd.read_sql_query(\n",
    "    sql=\"select * from flights\",\n",
    "    con=conn_rs\n",
    ")"
   ]
  },
  {
   "cell_type": "code",
   "execution_count": 19,
   "metadata": {},
   "outputs": [
    {
     "data": {
      "text/html": [
       "<div>\n",
       "<style scoped>\n",
       "    .dataframe tbody tr th:only-of-type {\n",
       "        vertical-align: middle;\n",
       "    }\n",
       "\n",
       "    .dataframe tbody tr th {\n",
       "        vertical-align: top;\n",
       "    }\n",
       "\n",
       "    .dataframe thead th {\n",
       "        text-align: right;\n",
       "    }\n",
       "</style>\n",
       "<table border=\"1\" class=\"dataframe\">\n",
       "  <thead>\n",
       "    <tr style=\"text-align: right;\">\n",
       "      <th></th>\n",
       "      <th>year</th>\n",
       "      <th>month</th>\n",
       "      <th>passengers</th>\n",
       "      <th>year_month</th>\n",
       "    </tr>\n",
       "  </thead>\n",
       "  <tbody>\n",
       "    <tr>\n",
       "      <th>140</th>\n",
       "      <td>1960</td>\n",
       "      <td>September</td>\n",
       "      <td>508</td>\n",
       "      <td>1960_September</td>\n",
       "    </tr>\n",
       "    <tr>\n",
       "      <th>141</th>\n",
       "      <td>1960</td>\n",
       "      <td>October</td>\n",
       "      <td>461</td>\n",
       "      <td>1960_October</td>\n",
       "    </tr>\n",
       "    <tr>\n",
       "      <th>142</th>\n",
       "      <td>1960</td>\n",
       "      <td>November</td>\n",
       "      <td>390</td>\n",
       "      <td>1960_November</td>\n",
       "    </tr>\n",
       "    <tr>\n",
       "      <th>143</th>\n",
       "      <td>1960</td>\n",
       "      <td>December</td>\n",
       "      <td>432</td>\n",
       "      <td>1960_December</td>\n",
       "    </tr>\n",
       "    <tr>\n",
       "      <th>144</th>\n",
       "      <td>1961</td>\n",
       "      <td>January</td>\n",
       "      <td>487</td>\n",
       "      <td>1961_January</td>\n",
       "    </tr>\n",
       "  </tbody>\n",
       "</table>\n",
       "</div>"
      ],
      "text/plain": [
       "     year      month  passengers      year_month\n",
       "140  1960  September         508  1960_September\n",
       "141  1960    October         461    1960_October\n",
       "142  1960   November         390   1960_November\n",
       "143  1960   December         432   1960_December\n",
       "144  1961    January         487    1961_January"
      ]
     },
     "execution_count": 19,
     "metadata": {},
     "output_type": "execute_result"
    }
   ],
   "source": [
    "df.tail()"
   ]
  },
  {
   "cell_type": "markdown",
   "metadata": {},
   "source": [
    "# Upserts"
   ]
  },
  {
   "cell_type": "markdown",
   "metadata": {},
   "source": [
    "While an UPSERT with a given row of values might be useful from time to time, it is more common to have a \"stage\" table act as the source for new data to be inserted/updated on a target table.\n",
    "\n",
    "For this example we will create a new table, our target table.\n",
    "\n",
    "This table will have some \"outdated\" values and also will not have the \"latest\" data from our \"stage\" table.\n",
    "\n",
    "The goal is to update the \"outdated\" or incorrect values from the stage table and insert the latest values into the target table."
   ]
  },
  {
   "cell_type": "code",
   "execution_count": 20,
   "metadata": {},
   "outputs": [
    {
     "name": "stdout",
     "output_type": "stream",
     "text": [
      "\u001b[31mRuntime: 0.0017045833333333333\n",
      "\u001b[31mRuntime: 0.003262066666666667\n"
     ]
    }
   ],
   "source": [
    "# create the 'outdated' target table\n",
    "# the target table only has data through 1959 \n",
    "# the target table's passenger figures are also incorrect:\n",
    "# (80% for months ending in 'y')\n",
    "\n",
    "sql = '''\n",
    "CREATE table flights_tgt \n",
    "as \n",
    "select \n",
    "src.year,\n",
    "src.month,\n",
    "cast(\n",
    "        (\n",
    "            case when right(src.month,1) = 'y' \n",
    "            then (src.passengers * 0.8) \n",
    "            else src.passengers \n",
    "            end\n",
    "        ) as integer) as passengers, \n",
    "src.year_month\n",
    "from flights src\n",
    "where src.year < 1960\n",
    "'''\n",
    "\n",
    "try:\n",
    "    Redshift.run_query_rs(\n",
    "        sql=\"drop table flights_tgt\",\n",
    "        conn=conn_rs\n",
    "    )\n",
    "except:\n",
    "    conn_rs.commit()\n",
    "\n",
    "Redshift.run_query_rs(\n",
    "    sql=sql,\n",
    "    conn=conn_rs\n",
    ")"
   ]
  },
  {
   "cell_type": "code",
   "execution_count": 21,
   "metadata": {},
   "outputs": [
    {
     "data": {
      "text/html": [
       "<div>\n",
       "<style scoped>\n",
       "    .dataframe tbody tr th:only-of-type {\n",
       "        vertical-align: middle;\n",
       "    }\n",
       "\n",
       "    .dataframe tbody tr th {\n",
       "        vertical-align: top;\n",
       "    }\n",
       "\n",
       "    .dataframe thead th {\n",
       "        text-align: right;\n",
       "    }\n",
       "</style>\n",
       "<table border=\"1\" class=\"dataframe\">\n",
       "  <thead>\n",
       "    <tr style=\"text-align: right;\">\n",
       "      <th></th>\n",
       "      <th>year</th>\n",
       "      <th>month</th>\n",
       "      <th>passengers</th>\n",
       "      <th>year_month</th>\n",
       "    </tr>\n",
       "  </thead>\n",
       "  <tbody>\n",
       "    <tr>\n",
       "      <th>127</th>\n",
       "      <td>1959</td>\n",
       "      <td>March</td>\n",
       "      <td>406</td>\n",
       "      <td>1959_March</td>\n",
       "    </tr>\n",
       "    <tr>\n",
       "      <th>128</th>\n",
       "      <td>1959</td>\n",
       "      <td>May</td>\n",
       "      <td>336</td>\n",
       "      <td>1959_May</td>\n",
       "    </tr>\n",
       "    <tr>\n",
       "      <th>129</th>\n",
       "      <td>1959</td>\n",
       "      <td>July</td>\n",
       "      <td>438</td>\n",
       "      <td>1959_July</td>\n",
       "    </tr>\n",
       "    <tr>\n",
       "      <th>130</th>\n",
       "      <td>1959</td>\n",
       "      <td>September</td>\n",
       "      <td>463</td>\n",
       "      <td>1959_September</td>\n",
       "    </tr>\n",
       "    <tr>\n",
       "      <th>131</th>\n",
       "      <td>1959</td>\n",
       "      <td>November</td>\n",
       "      <td>362</td>\n",
       "      <td>1959_November</td>\n",
       "    </tr>\n",
       "  </tbody>\n",
       "</table>\n",
       "</div>"
      ],
      "text/plain": [
       "     year      month  passengers      year_month\n",
       "127  1959      March         406      1959_March\n",
       "128  1959        May         336        1959_May\n",
       "129  1959       July         438       1959_July\n",
       "130  1959  September         463  1959_September\n",
       "131  1959   November         362   1959_November"
      ]
     },
     "execution_count": 21,
     "metadata": {},
     "output_type": "execute_result"
    }
   ],
   "source": [
    "df_tgt = pd.read_sql_query(\n",
    "    sql=\"select * from flights_tgt\",\n",
    "    con=conn_rs\n",
    ")\n",
    "\n",
    "df_tgt.tail()"
   ]
  },
  {
   "cell_type": "code",
   "execution_count": 22,
   "metadata": {},
   "outputs": [],
   "source": [
    "sql_update, sql_insert = Redshift.upsert_tbl_rs(\n",
    "    src_tbl=\"flights\", \n",
    "    tgt_tbl=\"flights_tgt\", \n",
    "    src_join_cols=[\"year\",\"month\",\"year_month\"], \n",
    "    src_insert_cols=[\"year\",\"month\",\"passengers\",\"year_month\"],\n",
    "    src_update_cols=[\"passengers\"], \n",
    "    update_compare_cols=[\"passengers\"]\n",
    ")"
   ]
  },
  {
   "cell_type": "markdown",
   "metadata": {},
   "source": [
    "Below we have our two UPSERT sql statements, an UPDATE and an INSERT."
   ]
  },
  {
   "cell_type": "code",
   "execution_count": 23,
   "metadata": {},
   "outputs": [
    {
     "data": {
      "text/plain": [
       "'                 /* Update records*/                  UPDATE flights_tgt                  SET passengers = s.passengers                 FROM flights s                  WHERE flights_tgt.year = s.year AND  flights_tgt.month = s.month AND  flights_tgt.year_month = s.year_month  AND s.passengers != flights_tgt.passengers                 '"
      ]
     },
     "execution_count": 23,
     "metadata": {},
     "output_type": "execute_result"
    }
   ],
   "source": [
    "sql_update"
   ]
  },
  {
   "cell_type": "code",
   "execution_count": 24,
   "metadata": {},
   "outputs": [
    {
     "data": {
      "text/plain": [
       "'             /* Insert records*/             INSERT INTO flights_tgt             SELECT s.year, s.month, s.passengers, s.year_month             FROM flights s              LEFT JOIN flights_tgt t              ON t.year = s.year AND  t.month = s.month AND  t.year_month = s.year_month              WHERE t.year IS NULL AND  t.month IS NULL AND  t.year_month IS NULL              '"
      ]
     },
     "execution_count": 24,
     "metadata": {},
     "output_type": "execute_result"
    }
   ],
   "source": [
    "sql_insert"
   ]
  },
  {
   "cell_type": "markdown",
   "metadata": {},
   "source": [
    "Next we just need to run them in this order to update our 'outdated' records and insert our 'missing' records."
   ]
  },
  {
   "cell_type": "code",
   "execution_count": 25,
   "metadata": {},
   "outputs": [
    {
     "name": "stdout",
     "output_type": "stream",
     "text": [
      "\u001b[31mRuntime: 0.00237265\n"
     ]
    }
   ],
   "source": [
    "Redshift.run_query_rs(\n",
    "    sql=sql_update,\n",
    "    conn=conn_rs\n",
    ")"
   ]
  },
  {
   "cell_type": "code",
   "execution_count": 26,
   "metadata": {},
   "outputs": [
    {
     "name": "stdout",
     "output_type": "stream",
     "text": [
      "\u001b[31mRuntime: 0.0032544333333333333\n"
     ]
    }
   ],
   "source": [
    "Redshift.run_query_rs(\n",
    "    sql=sql_insert,\n",
    "    conn=conn_rs\n",
    ")"
   ]
  },
  {
   "cell_type": "markdown",
   "metadata": {},
   "source": [
    "Nowe we see that the two tables reflect the same data! The UPSERT was successful."
   ]
  },
  {
   "cell_type": "code",
   "execution_count": 27,
   "metadata": {},
   "outputs": [],
   "source": [
    "df_tgt = pd.read_sql_query(\n",
    "    sql=\"select * from flights_tgt\",\n",
    "    con=conn_rs\n",
    ")\n",
    "\n",
    "df_src = pd.read_sql_query(\n",
    "    sql=\"select * from flights\",\n",
    "    con=conn_rs\n",
    ")\n"
   ]
  },
  {
   "cell_type": "code",
   "execution_count": 28,
   "metadata": {},
   "outputs": [
    {
     "data": {
      "text/plain": [
       "year          True\n",
       "month         True\n",
       "passengers    True\n",
       "year_month    True\n",
       "dtype: bool"
      ]
     },
     "execution_count": 28,
     "metadata": {},
     "output_type": "execute_result"
    }
   ],
   "source": [
    "(\n",
    "    df_src.sort_values(by=[\"year\",\"month\"]).reset_index(drop=True) == \\\n",
    "    df_tgt.sort_values(by=[\"year\",\"month\"]).reset_index(drop=True)\n",
    ").all()"
   ]
  }
 ],
 "metadata": {
  "kernelspec": {
   "display_name": "Python 3",
   "language": "python",
   "name": "python3"
  },
  "language_info": {
   "codemirror_mode": {
    "name": "ipython",
    "version": 3
   },
   "file_extension": ".py",
   "mimetype": "text/x-python",
   "name": "python",
   "nbconvert_exporter": "python",
   "pygments_lexer": "ipython3",
   "version": "3.8.0"
  },
  "toc": {
   "base_numbering": 1,
   "nav_menu": {},
   "number_sections": true,
   "sideBar": true,
   "skip_h1_title": false,
   "title_cell": "Table of Contents",
   "title_sidebar": "Contents",
   "toc_cell": false,
   "toc_position": {
    "height": "1706px",
    "left": "0px",
    "right": "868px",
    "top": "110px",
    "width": "212px"
   },
   "toc_section_display": true,
   "toc_window_display": true
  }
 },
 "nbformat": 4,
 "nbformat_minor": 2
}
