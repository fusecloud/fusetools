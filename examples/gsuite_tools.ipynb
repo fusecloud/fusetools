{
 "cells": [
  {
   "cell_type": "markdown",
   "metadata": {},
   "source": [
    "# GSuite Tools"
   ]
  },
  {
   "cell_type": "markdown",
   "metadata": {},
   "source": [
    "This notebook contains examples for using GSuite."
   ]
  },
  {
   "cell_type": "code",
   "execution_count": 3,
   "metadata": {},
   "outputs": [],
   "source": [
    "from pymagic.gsuite_tools import GDrive,GSheets,GMail\n",
    "import pandas as pd\n",
    "import os, sys\n",
    "\n",
    "# if sys.platform == \"linux\":\n",
    "#     wd = \"/home/collier/Downloads/\"\n",
    "# else:\n",
    "#     wd = \"/Users/collier/Downloads/\"\n",
    "    \n",
    "# os.chdir(wd)"
   ]
  },
  {
   "cell_type": "markdown",
   "metadata": {},
   "source": [
    "# Authentication"
   ]
  },
  {
   "cell_type": "markdown",
   "metadata": {},
   "source": [
    "The first step for using GSuite is to create an credentials object"
   ]
  },
  {
   "cell_type": "code",
   "execution_count": 4,
   "metadata": {},
   "outputs": [],
   "source": [
    "credentials = \\\n",
    "GDrive.authorize_credentials(\n",
    "    cred_path=\"/home/collier/Downloads/credentials.json\",\n",
    "    token_path=\"/home/collier/Downloads/token.pickle\"\n",
    ")"
   ]
  },
  {
   "cell_type": "markdown",
   "metadata": {},
   "source": [
    "# Google Sheets"
   ]
  },
  {
   "cell_type": "markdown",
   "metadata": {},
   "source": [
    "Below are some example tasks with Google Sheets"
   ]
  },
  {
   "cell_type": "markdown",
   "metadata": {},
   "source": [
    "## Make a Spreadsheet"
   ]
  },
  {
   "cell_type": "code",
   "execution_count": 6,
   "metadata": {},
   "outputs": [
    {
     "name": "stdout",
     "output_type": "stream",
     "text": [
      "Created wb: test_sheet\n",
      "1ZZ95zU4CmW3ihFw_lb6mYYYQ-olpX1HuJaOHmTSLmwk\n"
     ]
    }
   ],
   "source": [
    "#make google sheet\n",
    "sheet_id = GSheets.make_google_sheet(ss_name=\"test_sheet\",\n",
    "                                     credentials=credentials)\n",
    "print(sheet_id)"
   ]
  },
  {
   "cell_type": "markdown",
   "metadata": {},
   "source": [
    "## Add a tab"
   ]
  },
  {
   "cell_type": "code",
   "execution_count": 7,
   "metadata": {},
   "outputs": [
    {
     "name": "stdout",
     "output_type": "stream",
     "text": [
      "Added sheet: test_api_sheet\n",
      "{'spreadsheetId': '1ZZ95zU4CmW3ihFw_lb6mYYYQ-olpX1HuJaOHmTSLmwk', 'replies': [{'addSheet': {'properties': {'sheetId': 541530702, 'title': 'test_api_sheet', 'index': 1, 'sheetType': 'GRID', 'gridProperties': {'rowCount': 1000, 'columnCount': 26}}}}]}\n"
     ]
    }
   ],
   "source": [
    "#add google sheet tab\n",
    "res = GSheets.add_google_sheet_tab(\n",
    "    spreadsheet_id=sheet_id,\n",
    "    tab_name=\"test_api_sheet\",\n",
    "    credentials=credentials\n",
    ")\n",
    "print(res)"
   ]
  },
  {
   "cell_type": "code",
   "execution_count": 9,
   "metadata": {},
   "outputs": [
    {
     "name": "stdout",
     "output_type": "stream",
     "text": [
      "541530702\n"
     ]
    }
   ],
   "source": [
    "#getting id for newly created tab\n",
    "tab_id = \\\n",
    "(res\n",
    " .get(\"replies\")[0]\n",
    " .get(\"addSheet\")\n",
    " .get(\"properties\")\n",
    " .get(\"sheetId\")\n",
    ")\n",
    "print(tab_id)"
   ]
  },
  {
   "cell_type": "markdown",
   "metadata": {},
   "source": [
    "## Freeze Panes"
   ]
  },
  {
   "cell_type": "code",
   "execution_count": 10,
   "metadata": {},
   "outputs": [
    {
     "data": {
      "text/plain": [
       "{'spreadsheetId': '1ZZ95zU4CmW3ihFw_lb6mYYYQ-olpX1HuJaOHmTSLmwk',\n",
       " 'replies': [{}]}"
      ]
     },
     "execution_count": 10,
     "metadata": {},
     "output_type": "execute_result"
    }
   ],
   "source": [
    "#freeze a google sheet row\n",
    "GSheets.freeze_rows_google_sheet(\n",
    "    spreadsheet_id=sheet_id,\n",
    "    tab_id=tab_id,\n",
    "    freeze_row=1,\n",
    "    credentials=credentials\n",
    ")"
   ]
  },
  {
   "cell_type": "markdown",
   "metadata": {},
   "source": [
    "## Pandas to Spreadsheet"
   ]
  },
  {
   "cell_type": "code",
   "execution_count": 11,
   "metadata": {},
   "outputs": [
    {
     "data": {
      "text/plain": [
       "{'spreadsheetId': '1ZZ95zU4CmW3ihFw_lb6mYYYQ-olpX1HuJaOHmTSLmwk',\n",
       " 'updates': {'spreadsheetId': '1ZZ95zU4CmW3ihFw_lb6mYYYQ-olpX1HuJaOHmTSLmwk',\n",
       "  'updatedRange': 'test_api_sheet!A1:B6',\n",
       "  'updatedRows': 6,\n",
       "  'updatedColumns': 2,\n",
       "  'updatedCells': 12}}"
      ]
     },
     "execution_count": 11,
     "metadata": {},
     "output_type": "execute_result"
    }
   ],
   "source": [
    "#update a sheet with a Pandas DataFrame\n",
    "GSheets.update_google_sheet_df(\n",
    "    spreadsheet_id=sheet_id,\n",
    "    df=pd.DataFrame({\n",
    "        \"test_floats\":[1.0,2.0,3.0,4.0,5.0],\n",
    "        \"test_chars\":[\"a\",\"b\",\"c\",\"d\",\"e\"]\n",
    "    }),\n",
    "    range=f\"test_api_sheet!A1\", #put the target tab into the range here\n",
    "    credentials=credentials\n",
    " )"
   ]
  },
  {
   "cell_type": "markdown",
   "metadata": {},
   "source": [
    "## Updating a Cell"
   ]
  },
  {
   "cell_type": "code",
   "execution_count": 12,
   "metadata": {},
   "outputs": [
    {
     "data": {
      "text/plain": [
       "{'spreadsheetId': '1ZZ95zU4CmW3ihFw_lb6mYYYQ-olpX1HuJaOHmTSLmwk',\n",
       " 'replies': [{}]}"
      ]
     },
     "execution_count": 12,
     "metadata": {},
     "output_type": "execute_result"
    }
   ],
   "source": [
    "#update a value in a google sheet\n",
    "GSheets.update_google_sheet_val(\n",
    "    spreadsheet_id=sheet_id,\n",
    "    tab_id=tab_id,\n",
    "    val='=\"new_column_header\"',\n",
    "    row=0, #row and col indexes from 0\n",
    "    col=2,\n",
    "    credentials=credentials\n",
    ")\n",
    "\n",
    "#update a value in a google sheet\n",
    "GSheets.update_google_sheet_val(\n",
    "    spreadsheet_id=sheet_id,\n",
    "    tab_id=tab_id,\n",
    "    val='=\"new_column_value\"',\n",
    "    row=1, #row and col indexes from 0\n",
    "    col=2,\n",
    "    credentials=credentials\n",
    ")"
   ]
  },
  {
   "cell_type": "markdown",
   "metadata": {},
   "source": [
    "## Spreadsheet to Pandas"
   ]
  },
  {
   "cell_type": "code",
   "execution_count": 13,
   "metadata": {},
   "outputs": [],
   "source": [
    "#download a google sheet's contents into Pandas \n",
    "df = GSheets.get_google_sheet(\n",
    "    spreadsheet_id=sheet_id,\n",
    "    range_name=\"A:Z\",\n",
    "    tab_name=\"test_api_sheet\",\n",
    "    credentials=credentials\n",
    ")"
   ]
  },
  {
   "cell_type": "code",
   "execution_count": 14,
   "metadata": {},
   "outputs": [
    {
     "data": {
      "text/html": [
       "<div>\n",
       "<style scoped>\n",
       "    .dataframe tbody tr th:only-of-type {\n",
       "        vertical-align: middle;\n",
       "    }\n",
       "\n",
       "    .dataframe tbody tr th {\n",
       "        vertical-align: top;\n",
       "    }\n",
       "\n",
       "    .dataframe thead th {\n",
       "        text-align: right;\n",
       "    }\n",
       "</style>\n",
       "<table border=\"1\" class=\"dataframe\">\n",
       "  <thead>\n",
       "    <tr style=\"text-align: right;\">\n",
       "      <th></th>\n",
       "      <th>test_floats</th>\n",
       "      <th>test_chars</th>\n",
       "      <th>new_column_header</th>\n",
       "    </tr>\n",
       "  </thead>\n",
       "  <tbody>\n",
       "    <tr>\n",
       "      <th>0</th>\n",
       "      <td>1</td>\n",
       "      <td>a</td>\n",
       "      <td>new_column_value</td>\n",
       "    </tr>\n",
       "    <tr>\n",
       "      <th>1</th>\n",
       "      <td>2</td>\n",
       "      <td>b</td>\n",
       "      <td>None</td>\n",
       "    </tr>\n",
       "    <tr>\n",
       "      <th>2</th>\n",
       "      <td>3</td>\n",
       "      <td>c</td>\n",
       "      <td>None</td>\n",
       "    </tr>\n",
       "    <tr>\n",
       "      <th>3</th>\n",
       "      <td>4</td>\n",
       "      <td>d</td>\n",
       "      <td>None</td>\n",
       "    </tr>\n",
       "    <tr>\n",
       "      <th>4</th>\n",
       "      <td>5</td>\n",
       "      <td>e</td>\n",
       "      <td>None</td>\n",
       "    </tr>\n",
       "  </tbody>\n",
       "</table>\n",
       "</div>"
      ],
      "text/plain": [
       "  test_floats test_chars new_column_header\n",
       "0           1          a  new_column_value\n",
       "1           2          b              None\n",
       "2           3          c              None\n",
       "3           4          d              None\n",
       "4           5          e              None"
      ]
     },
     "execution_count": 14,
     "metadata": {},
     "output_type": "execute_result"
    }
   ],
   "source": [
    "df.head()"
   ]
  },
  {
   "cell_type": "markdown",
   "metadata": {},
   "source": [
    "## Get Tab Names for Spreadsheet"
   ]
  },
  {
   "cell_type": "code",
   "execution_count": 15,
   "metadata": {},
   "outputs": [
    {
     "name": "stdout",
     "output_type": "stream",
     "text": [
      "{'Sheet1': 0, 'test_api_sheet': 541530702}\n"
     ]
    }
   ],
   "source": [
    "#retrieve the tab ids and sheet names for a given spreadsheet\n",
    "tab_names, tab_ids = \\\n",
    "GSheets.get_google_sheet_tabs(\n",
    "    spreadsheet_id=sheet_id,\n",
    "    credentials=credentials\n",
    ")\n",
    "print(dict(zip(tab_names,tab_ids)))"
   ]
  },
  {
   "cell_type": "markdown",
   "metadata": {},
   "source": [
    "# Google Drive"
   ]
  },
  {
   "cell_type": "markdown",
   "metadata": {},
   "source": [
    "Sample code for example tasks with Google Drive"
   ]
  },
  {
   "cell_type": "markdown",
   "metadata": {},
   "source": [
    "## Get all items in Drive"
   ]
  },
  {
   "cell_type": "code",
   "execution_count": 16,
   "metadata": {},
   "outputs": [],
   "source": [
    "#get all items in a Google Drive\n",
    "df_items = GDrive.get_all_google_items(credentials=credentials)"
   ]
  },
  {
   "cell_type": "code",
   "execution_count": 17,
   "metadata": {},
   "outputs": [
    {
     "data": {
      "text/html": [
       "<div>\n",
       "<style scoped>\n",
       "    .dataframe tbody tr th:only-of-type {\n",
       "        vertical-align: middle;\n",
       "    }\n",
       "\n",
       "    .dataframe tbody tr th {\n",
       "        vertical-align: top;\n",
       "    }\n",
       "\n",
       "    .dataframe thead th {\n",
       "        text-align: right;\n",
       "    }\n",
       "</style>\n",
       "<table border=\"1\" class=\"dataframe\">\n",
       "  <thead>\n",
       "    <tr style=\"text-align: right;\">\n",
       "      <th></th>\n",
       "      <th>kind</th>\n",
       "      <th>id</th>\n",
       "      <th>name</th>\n",
       "      <th>mimeType</th>\n",
       "    </tr>\n",
       "  </thead>\n",
       "  <tbody>\n",
       "    <tr>\n",
       "      <th>0</th>\n",
       "      <td>drive#file</td>\n",
       "      <td>1ZZ95zU4CmW3ihFw_lb6mYYYQ-olpX1HuJaOHmTSLmwk</td>\n",
       "      <td>test_sheet</td>\n",
       "      <td>application/vnd.google-apps.spreadsheet</td>\n",
       "    </tr>\n",
       "    <tr>\n",
       "      <th>1</th>\n",
       "      <td>drive#file</td>\n",
       "      <td>1vPs1fOXfWYQpiqlhIpNr7iDWWSRZXLhm</td>\n",
       "      <td>/Users/collier/Downloads/Repair Request.xlsx</td>\n",
       "      <td>application/vnd.openxmlformats-officedocument....</td>\n",
       "    </tr>\n",
       "    <tr>\n",
       "      <th>2</th>\n",
       "      <td>drive#file</td>\n",
       "      <td>1C-ITbWDH5xZD3v8WT9X_M9yY0-7f5Lup</td>\n",
       "      <td>/Users/collier/Downloads/application.csv</td>\n",
       "      <td>text/csv</td>\n",
       "    </tr>\n",
       "    <tr>\n",
       "      <th>3</th>\n",
       "      <td>drive#file</td>\n",
       "      <td>1MyoIn88HlDDpJCEkhSQAc03uK34AXwzN</td>\n",
       "      <td>/Users/collier/Downloads/50-114.pdf</td>\n",
       "      <td>application/pdf</td>\n",
       "    </tr>\n",
       "    <tr>\n",
       "      <th>4</th>\n",
       "      <td>drive#file</td>\n",
       "      <td>1oxesTUkOJCISeyd3Lg8o0zfPEH5La7uU</td>\n",
       "      <td>/Users/collier/Downloads/Floating Weekend Menu...</td>\n",
       "      <td>application/vnd.openxmlformats-officedocument....</td>\n",
       "    </tr>\n",
       "  </tbody>\n",
       "</table>\n",
       "</div>"
      ],
      "text/plain": [
       "         kind                                            id  \\\n",
       "0  drive#file  1ZZ95zU4CmW3ihFw_lb6mYYYQ-olpX1HuJaOHmTSLmwk   \n",
       "1  drive#file             1vPs1fOXfWYQpiqlhIpNr7iDWWSRZXLhm   \n",
       "2  drive#file             1C-ITbWDH5xZD3v8WT9X_M9yY0-7f5Lup   \n",
       "3  drive#file             1MyoIn88HlDDpJCEkhSQAc03uK34AXwzN   \n",
       "4  drive#file             1oxesTUkOJCISeyd3Lg8o0zfPEH5La7uU   \n",
       "\n",
       "                                                name  \\\n",
       "0                                         test_sheet   \n",
       "1       /Users/collier/Downloads/Repair Request.xlsx   \n",
       "2           /Users/collier/Downloads/application.csv   \n",
       "3                /Users/collier/Downloads/50-114.pdf   \n",
       "4  /Users/collier/Downloads/Floating Weekend Menu...   \n",
       "\n",
       "                                            mimeType  \n",
       "0            application/vnd.google-apps.spreadsheet  \n",
       "1  application/vnd.openxmlformats-officedocument....  \n",
       "2                                           text/csv  \n",
       "3                                    application/pdf  \n",
       "4  application/vnd.openxmlformats-officedocument....  "
      ]
     },
     "execution_count": 17,
     "metadata": {},
     "output_type": "execute_result"
    }
   ],
   "source": [
    "df_items.head()"
   ]
  },
  {
   "cell_type": "markdown",
   "metadata": {},
   "source": [
    "## Create a Drive Folder"
   ]
  },
  {
   "cell_type": "code",
   "execution_count": 18,
   "metadata": {},
   "outputs": [
    {
     "name": "stdout",
     "output_type": "stream",
     "text": [
      "Overwriting file: sub_folder (1ImBb1kFYlNampW9wxi4bfDhYJ9Vej-tc)\n"
     ]
    },
    {
     "data": {
      "text/plain": [
       "{'kind': 'drive#file',\n",
       " 'id': '1bpdgvZvXywJWkq7wP7wdn9kUADulJO2n',\n",
       " 'name': 'parent_folder',\n",
       " 'mimeType': 'application/vnd.google-apps.folder'}"
      ]
     },
     "execution_count": 18,
     "metadata": {},
     "output_type": "execute_result"
    }
   ],
   "source": [
    "#create a GDrive folder\n",
    "GDrive.create_upload_folder(\n",
    "    folder_path=\"parent_folder\",\n",
    "    credentials=credentials\n",
    ")"
   ]
  },
  {
   "cell_type": "markdown",
   "metadata": {},
   "source": [
    "## Create a Drive Sub-Folder"
   ]
  },
  {
   "cell_type": "code",
   "execution_count": 19,
   "metadata": {},
   "outputs": [
    {
     "name": "stdout",
     "output_type": "stream",
     "text": [
      "Overwriting file: parent_folder (1bpdgvZvXywJWkq7wP7wdn9kUADulJO2n)\n"
     ]
    },
    {
     "data": {
      "text/plain": [
       "{'kind': 'drive#file',\n",
       " 'id': '1hhjss3VpDtKk-53xwVjNdZ1WTiAhDfEP',\n",
       " 'name': 'sub_folder',\n",
       " 'mimeType': 'application/vnd.google-apps.folder'}"
      ]
     },
     "execution_count": 19,
     "metadata": {},
     "output_type": "execute_result"
    }
   ],
   "source": [
    "#create a GDrive folder inside another folder\n",
    "GDrive.create_upload_folder(\n",
    "    folder_path=\"sub_folder\", \n",
    "    parent_id=['1Gx8nRDBC7HYhoDOLSKqm7TDXgqpRd_vz'], #use a list to specify the parent folder\n",
    "    credentials=credentials\n",
    ")"
   ]
  },
  {
   "cell_type": "markdown",
   "metadata": {},
   "source": [
    "## Upload Files"
   ]
  },
  {
   "cell_type": "code",
   "execution_count": 23,
   "metadata": {},
   "outputs": [],
   "source": [
    "#upload files\n",
    "upload_filepaths=[\n",
    "    \"/home/collier/Downloads/playbook.png\",\n",
    "    \"/home/collier/Downloads/Logo 3 (1).jpg\",\n",
    "    \"/home/collier/Downloads/test.docx\",\n",
    "    \"/home/collier/Downloads/vuetify-fundamentals-cheat-sheet.pdf\",\n",
    "    \"/home/collier/Downloads/biz_cats_list.csv\",\n",
    "    \"/home/collier/Downloads/feb17.xls\"\n",
    "]"
   ]
  },
  {
   "cell_type": "code",
   "execution_count": 24,
   "metadata": {},
   "outputs": [
    {
     "data": {
      "text/plain": [
       "['/home/collier/Downloads/playbook.png',\n",
       " '/home/collier/Downloads/Logo 3 (1).jpg',\n",
       " '/home/collier/Downloads/test.docx',\n",
       " '/home/collier/Downloads/vuetify-fundamentals-cheat-sheet.pdf',\n",
       " '/home/collier/Downloads/biz_cats_list.csv',\n",
       " '/home/collier/Downloads/feb17.xls']"
      ]
     },
     "execution_count": 24,
     "metadata": {},
     "output_type": "execute_result"
    }
   ],
   "source": [
    "upload_filepaths"
   ]
  },
  {
   "cell_type": "code",
   "execution_count": 25,
   "metadata": {},
   "outputs": [
    {
     "name": "stdout",
     "output_type": "stream",
     "text": [
      "file upload success for: /home/collier/Downloads/playbook.png\n",
      "file upload success for: /home/collier/Downloads/Logo 3 (1).jpg\n",
      "file upload success for: /home/collier/Downloads/test.docx\n",
      "file upload success for: /home/collier/Downloads/vuetify-fundamentals-cheat-sheet.pdf\n",
      "file upload success for: /home/collier/Downloads/biz_cats_list.csv\n",
      "file upload success for: /home/collier/Downloads/feb17.xls\n"
     ]
    },
    {
     "data": {
      "text/plain": [
       "[{'id': '1dlNPfK7Ln1bOGosblyEhRzDJMTJv0umK'},\n",
       " {'id': '1QDDdtCmEBMkt8h7ldWHN0N1XsdCCNJT_'},\n",
       " {'id': '1MtixrJts3Rng2KSZJE2VvSNIiYkgDcGm'},\n",
       " {'id': '14IwYzkVwqzg9XSYabK7cNIkgtFRS22Go'},\n",
       " {'id': '1h5Q3tC2VaXhSkTPbDWOnkVCclF0EG_mJ'},\n",
       " {'id': '1cLuqpC_NjkJcppSToFDUW2dCc0kVdt7v'}]"
      ]
     },
     "execution_count": 25,
     "metadata": {},
     "output_type": "execute_result"
    }
   ],
   "source": [
    "GDrive.upload_files(\n",
    "    folder_id='1RQjhb6FrJ89xvcCxLt7wYmgQReawTpRJ', #specify parent folder\n",
    "    upload_filepaths=upload_filepaths,\n",
    "    credentials=credentials\n",
    ")"
   ]
  },
  {
   "cell_type": "markdown",
   "metadata": {},
   "source": [
    "## Download Files"
   ]
  },
  {
   "cell_type": "code",
   "execution_count": 26,
   "metadata": {},
   "outputs": [
    {
     "name": "stdout",
     "output_type": "stream",
     "text": [
      "Download 100%.\n"
     ]
    }
   ],
   "source": [
    "GDrive.download_file(\n",
    "    file_id='16fMu2BoLCVEI-3_HM-do7PiSneBMG4NB',\n",
    "    credentials=credentials\n",
    ")"
   ]
  },
  {
   "cell_type": "markdown",
   "metadata": {},
   "source": [
    "# Gmail"
   ]
  },
  {
   "cell_type": "markdown",
   "metadata": {},
   "source": [
    "Sample code for example tasks with GMail"
   ]
  },
  {
   "cell_type": "markdown",
   "metadata": {},
   "source": [
    "## Creating an Email 'Service'"
   ]
  },
  {
   "cell_type": "code",
   "execution_count": 28,
   "metadata": {},
   "outputs": [],
   "source": [
    "service = GMail.create_service(\n",
    "    cred_path=\"/home/collier/Downloads/credentials.json\",\n",
    "    token_path=\"/home/collier/Downloads/token.pickle\",\n",
    "    working_dir=\"/home/collier/Downloads/\")"
   ]
  },
  {
   "cell_type": "markdown",
   "metadata": {},
   "source": [
    "## Get Messages in Inbox"
   ]
  },
  {
   "cell_type": "code",
   "execution_count": 29,
   "metadata": {},
   "outputs": [],
   "source": [
    "msg_df = GMail.get_emails(service=service)"
   ]
  },
  {
   "cell_type": "code",
   "execution_count": 30,
   "metadata": {},
   "outputs": [
    {
     "data": {
      "text/html": [
       "<div>\n",
       "<style scoped>\n",
       "    .dataframe tbody tr th:only-of-type {\n",
       "        vertical-align: middle;\n",
       "    }\n",
       "\n",
       "    .dataframe tbody tr th {\n",
       "        vertical-align: top;\n",
       "    }\n",
       "\n",
       "    .dataframe thead th {\n",
       "        text-align: right;\n",
       "    }\n",
       "</style>\n",
       "<table border=\"1\" class=\"dataframe\">\n",
       "  <thead>\n",
       "    <tr style=\"text-align: right;\">\n",
       "      <th></th>\n",
       "      <th>mime_types</th>\n",
       "      <th>ids</th>\n",
       "      <th>text</th>\n",
       "    </tr>\n",
       "  </thead>\n",
       "  <tbody>\n",
       "    <tr>\n",
       "      <th>83</th>\n",
       "      <td>[text/plain, text/html]</td>\n",
       "      <td>173d6594087253cf</td>\n",
       "      <td>Hi,\\r\\n\\r\\n \\r\\n\\r\\n   Please confirm your ema...</td>\n",
       "    </tr>\n",
       "    <tr>\n",
       "      <th>84</th>\n",
       "      <td>[text/html]</td>\n",
       "      <td>173d6326d01e6d23</td>\n",
       "      <td>&lt;!DOCTYPE html PUBLIC \"-//W3C//DTD HTML 4.0 Tr...</td>\n",
       "    </tr>\n",
       "    <tr>\n",
       "      <th>85</th>\n",
       "      <td>[text/plain, text/html]</td>\n",
       "      <td>173d614defa3978c</td>\n",
       "      <td>\\r\\n\\r\\n\\r\\nWelcome to Fiverr! \\r\\n( https://l...</td>\n",
       "    </tr>\n",
       "    <tr>\n",
       "      <th>86</th>\n",
       "      <td>[text/html]</td>\n",
       "      <td>173d5eb87f2da68a</td>\n",
       "      <td>&lt;html&gt;&lt;body&gt;&lt;img width=\"1\" height=\"1\" src=\"htt...</td>\n",
       "    </tr>\n",
       "    <tr>\n",
       "      <th>87</th>\n",
       "      <td>[text/plain, text/html]</td>\n",
       "      <td>173d4ba493df9f19</td>\n",
       "      <td>From: \"The G Suite Team\" [gsuite-noreply@googl...</td>\n",
       "    </tr>\n",
       "  </tbody>\n",
       "</table>\n",
       "</div>"
      ],
      "text/plain": [
       "                 mime_types               ids  \\\n",
       "83  [text/plain, text/html]  173d6594087253cf   \n",
       "84              [text/html]  173d6326d01e6d23   \n",
       "85  [text/plain, text/html]  173d614defa3978c   \n",
       "86              [text/html]  173d5eb87f2da68a   \n",
       "87  [text/plain, text/html]  173d4ba493df9f19   \n",
       "\n",
       "                                                 text  \n",
       "83  Hi,\\r\\n\\r\\n \\r\\n\\r\\n   Please confirm your ema...  \n",
       "84  <!DOCTYPE html PUBLIC \"-//W3C//DTD HTML 4.0 Tr...  \n",
       "85  \\r\\n\\r\\n\\r\\nWelcome to Fiverr! \\r\\n( https://l...  \n",
       "86  <html><body><img width=\"1\" height=\"1\" src=\"htt...  \n",
       "87  From: \"The G Suite Team\" [gsuite-noreply@googl...  "
      ]
     },
     "execution_count": 30,
     "metadata": {},
     "output_type": "execute_result"
    }
   ],
   "source": [
    "msg_df[[\"mime_types\",\"ids\",\"text\"]].tail()"
   ]
  },
  {
   "cell_type": "markdown",
   "metadata": {},
   "source": [
    "## Download Message Attachments"
   ]
  },
  {
   "cell_type": "code",
   "execution_count": 31,
   "metadata": {},
   "outputs": [],
   "source": [
    "msg_id = (msg_df[msg_df['mime_types']\n",
    "                 .astype(str).str.contains(\"pdf\",na=False)]['ids'].values[0])"
   ]
  },
  {
   "cell_type": "code",
   "execution_count": 32,
   "metadata": {},
   "outputs": [],
   "source": [
    "#downloads all attachments for a given message id\n",
    "GMail.download_email_attachment(\n",
    "    service=service,\n",
    "    msg_id=msg_id,\n",
    "    sav_dir=\"/home/collier/Downloads/\"\n",
    ")"
   ]
  },
  {
   "cell_type": "markdown",
   "metadata": {},
   "source": [
    "## Send Email"
   ]
  },
  {
   "cell_type": "code",
   "execution_count": 34,
   "metadata": {},
   "outputs": [
    {
     "ename": "KeyError",
     "evalue": "'gmail_email_from'",
     "output_type": "error",
     "traceback": [
      "\u001B[0;31m---------------------------------------------------------------------------\u001B[0m",
      "\u001B[0;31mKeyError\u001B[0m                                  Traceback (most recent call last)",
      "\u001B[0;32m<ipython-input-34-93004784d616>\u001B[0m in \u001B[0;36m<module>\u001B[0;34m\u001B[0m\n\u001B[1;32m      1\u001B[0m GMail.send_email(\n\u001B[1;32m      2\u001B[0m     \u001B[0mservice\u001B[0m\u001B[0;34m=\u001B[0m\u001B[0mservice\u001B[0m\u001B[0;34m,\u001B[0m\u001B[0;34m\u001B[0m\u001B[0;34m\u001B[0m\u001B[0m\n\u001B[0;32m----> 3\u001B[0;31m     \u001B[0mto\u001B[0m\u001B[0;34m=\u001B[0m\u001B[0mos\u001B[0m\u001B[0;34m.\u001B[0m\u001B[0menviron\u001B[0m\u001B[0;34m[\u001B[0m\u001B[0;34m'gmail_email_from'\u001B[0m\u001B[0;34m]\u001B[0m\u001B[0;34m,\u001B[0m\u001B[0;34m\u001B[0m\u001B[0;34m\u001B[0m\u001B[0m\n\u001B[0m\u001B[1;32m      4\u001B[0m     \u001B[0msender\u001B[0m\u001B[0;34m=\u001B[0m\u001B[0mos\u001B[0m\u001B[0;34m.\u001B[0m\u001B[0menviron\u001B[0m\u001B[0;34m[\u001B[0m\u001B[0;34m'gmail_email_to'\u001B[0m\u001B[0;34m]\u001B[0m\u001B[0;34m,\u001B[0m\u001B[0;34m\u001B[0m\u001B[0;34m\u001B[0m\u001B[0m\n\u001B[1;32m      5\u001B[0m     \u001B[0msubject\u001B[0m\u001B[0;34m=\u001B[0m\u001B[0;34m\"Test Email\"\u001B[0m\u001B[0;34m,\u001B[0m\u001B[0;34m\u001B[0m\u001B[0;34m\u001B[0m\u001B[0m\n",
      "\u001B[0;32m~/Desktop/chartclass/chartclass/lib/python3.7/os.py\u001B[0m in \u001B[0;36m__getitem__\u001B[0;34m(self, key)\u001B[0m\n\u001B[1;32m    677\u001B[0m         \u001B[0;32mexcept\u001B[0m \u001B[0mKeyError\u001B[0m\u001B[0;34m:\u001B[0m\u001B[0;34m\u001B[0m\u001B[0;34m\u001B[0m\u001B[0m\n\u001B[1;32m    678\u001B[0m             \u001B[0;31m# raise KeyError with the original key value\u001B[0m\u001B[0;34m\u001B[0m\u001B[0;34m\u001B[0m\u001B[0;34m\u001B[0m\u001B[0m\n\u001B[0;32m--> 679\u001B[0;31m             \u001B[0;32mraise\u001B[0m \u001B[0mKeyError\u001B[0m\u001B[0;34m(\u001B[0m\u001B[0mkey\u001B[0m\u001B[0;34m)\u001B[0m \u001B[0;32mfrom\u001B[0m \u001B[0;32mNone\u001B[0m\u001B[0;34m\u001B[0m\u001B[0;34m\u001B[0m\u001B[0m\n\u001B[0m\u001B[1;32m    680\u001B[0m         \u001B[0;32mreturn\u001B[0m \u001B[0mself\u001B[0m\u001B[0;34m.\u001B[0m\u001B[0mdecodevalue\u001B[0m\u001B[0;34m(\u001B[0m\u001B[0mvalue\u001B[0m\u001B[0;34m)\u001B[0m\u001B[0;34m\u001B[0m\u001B[0;34m\u001B[0m\u001B[0m\n\u001B[1;32m    681\u001B[0m \u001B[0;34m\u001B[0m\u001B[0m\n",
      "\u001B[0;31mKeyError\u001B[0m: 'gmail_email_from'"
     ]
    }
   ],
   "source": [
    "GMail.send_email(\n",
    "    service=service, \n",
    "    to=os.environ['gmail_email_from'], \n",
    "    sender=os.environ['gmail_email_to'], \n",
    "    subject=\"Test Email\", \n",
    "    message_text=\"API Test Message\", \n",
    "    attachment=\"/home/collier/Downloads/3788918297.pdf\"\n",
    ")"
   ]
  },
  {
   "cell_type": "markdown",
   "metadata": {},
   "source": [
    "## Send Email with HTML Body"
   ]
  },
  {
   "cell_type": "code",
   "execution_count": 25,
   "metadata": {},
   "outputs": [],
   "source": [
    "df = pd.DataFrame({\n",
    "    \"column1\":[\"hello\",\"world\"],\n",
    "    \"column2\":[\"foo\",\"bar\"],\n",
    "    \"column3\":[1,2]\n",
    "})\n",
    "\n",
    "email_html = df.to_html()"
   ]
  },
  {
   "cell_type": "code",
   "execution_count": 26,
   "metadata": {},
   "outputs": [
    {
     "data": {
      "text/plain": [
       "'<table border=\"1\" class=\"dataframe\">\\n  <thead>\\n    <tr style=\"text-align: right;\">\\n      <th></th>\\n      <th>column1</th>\\n      <th>column2</th>\\n      <th>column3</th>\\n    </tr>\\n  </thead>\\n  <tbody>\\n    <tr>\\n      <th>0</th>\\n      <td>hello</td>\\n      <td>foo</td>\\n      <td>1</td>\\n    </tr>\\n    <tr>\\n      <th>1</th>\\n      <td>world</td>\\n      <td>bar</td>\\n      <td>2</td>\\n    </tr>\\n  </tbody>\\n</table>'"
      ]
     },
     "execution_count": 26,
     "metadata": {},
     "output_type": "execute_result"
    }
   ],
   "source": [
    "email_html"
   ]
  },
  {
   "cell_type": "code",
   "execution_count": 27,
   "metadata": {},
   "outputs": [
    {
     "data": {
      "text/plain": [
       "{'id': '174ccc3e0b90b2b3',\n",
       " 'threadId': '174ccc3e0b90b2b3',\n",
       " 'labelIds': ['SENT']}"
      ]
     },
     "execution_count": 27,
     "metadata": {},
     "output_type": "execute_result"
    }
   ],
   "source": [
    "GMail.send_email(\n",
    "    service=service, \n",
    "    to=os.environ['gmail_email_from'], \n",
    "    sender=os.environ['gmail_email_to'], \n",
    "    subject=\"Test Email HTML Body\", \n",
    "    message_text=email_html,\n",
    "    message_is_html=True,\n",
    "    attachment=\"/home/collier/Downloads/3788918297.pdf\"\n",
    ")"
   ]
  }
 ],
 "metadata": {
  "kernelspec": {
   "display_name": "Python 3",
   "language": "python",
   "name": "python3"
  },
  "language_info": {
   "codemirror_mode": {
    "name": "ipython",
    "version": 3
   },
   "file_extension": ".py",
   "mimetype": "text/x-python",
   "name": "python",
   "nbconvert_exporter": "python",
   "pygments_lexer": "ipython3",
   "version": "3.7.5"
  },
  "toc": {
   "base_numbering": 1,
   "colors": {
    "hover_highlight": "#DAA520",
    "navigate_num": "#000000",
    "navigate_text": "#333333",
    "running_highlight": "#FF0000",
    "selected_highlight": "#FFD700",
    "sidebar_border": "#EEEEEE",
    "wrapper_background": "#FFFFFF"
   },
   "moveMenuLeft": true,
   "nav_menu": {},
   "navigate_menu": true,
   "number_sections": true,
   "sideBar": true,
   "skip_h1_title": false,
   "threshold": 4,
   "title_cell": "Table of Contents",
   "title_sidebar": "Contents",
   "toc_cell": false,
   "toc_position": {
    "height": "calc(100% - 180px)",
    "left": "10px",
    "top": "150px",
    "width": "273.797px"
   },
   "toc_section_display": true,
   "toc_window_display": true,
   "widenNotebook": false
  }
 },
 "nbformat": 4,
 "nbformat_minor": 2
}